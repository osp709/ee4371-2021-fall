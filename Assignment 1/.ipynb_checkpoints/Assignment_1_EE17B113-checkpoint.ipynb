{
 "cells": [
  {
   "cell_type": "markdown",
   "metadata": {},
   "source": [
    "<h1><center>EE4371 - Assignment 1</center></h1>\n",
    "<h3><center>Om Shri Prasath, EE17B113</center></h3>\n",
    "<hr style=\"border:2px solid gray\"> </hr>"
   ]
  },
  {
   "cell_type": "markdown",
   "metadata": {},
   "source": [
    "__Q1. (a) Write a Python function that takes a positive integer $n$, and returns the sum of the squares of all the positive integers smaller than $n$.__"
   ]
  },
  {
   "cell_type": "markdown",
   "metadata": {},
   "source": [
    "\n",
    "<hr style=\"border:1px solid gray\"> </hr>"
   ]
  },
  {
   "cell_type": "markdown",
   "metadata": {},
   "source": [
    "__Solution 1 : $O(n)$ Time Complexity__\n",
    "\n",
    "We run a loop to sum the squares of all the positive integers less than $n$. This algorithm takes $O(n)$ time since we do $n-1$ operations for a given integer $n$."
   ]
  },
  {
   "cell_type": "code",
   "execution_count": 1,
   "metadata": {},
   "outputs": [
    {
     "name": "stdout",
     "output_type": "stream",
     "text": [
      "Sum of square of numbers less than 6 = 55\n"
     ]
    }
   ],
   "source": [
    "\"\"\"\n",
    "Function to find the square sum of positive integers less than n using for loop\n",
    "\n",
    "Input  : n -> A positive integer n\n",
    "Output : Sum of squares of all the positive integers less than n \n",
    "\"\"\"\n",
    "\n",
    "\n",
    "def sq_sum_1(n):\n",
    "\n",
    "    s = 0  # Variable to hold the sum of squares\n",
    "\n",
    "    # For loop runs over all positive integers less than n\n",
    "    for i in range(1, n):\n",
    "        # For each number we square it and add it to the final answer\n",
    "        s += i * i\n",
    "\n",
    "    # Return the sum of squares\n",
    "    return s\n",
    "\n",
    "\n",
    "# Testing the code\n",
    "n = 6\n",
    "print(\"Sum of square of numbers less than\", n, \"=\", sq_sum_1(n))"
   ]
  },
  {
   "cell_type": "markdown",
   "metadata": {},
   "source": [
    "<hr style=\"border:1px solid gray\"> </hr>"
   ]
  },
  {
   "cell_type": "markdown",
   "metadata": {},
   "source": [
    "__Solution 2 : $O(1)$ Time Complexity__\n",
    "\n",
    "The formula for sum of square of positive integers less than $n$ is given by:\n",
    "\n",
    "$$\n",
    "S_{n^{2}} = \\frac{(n-1)(n)(2n-1)}{6}\n",
    "$$\n",
    "\n",
    "We can use this formula to calculate the sum of squares of integers less than $n$ in $O(1)$ time."
   ]
  },
  {
   "cell_type": "code",
   "execution_count": 2,
   "metadata": {
    "scrolled": false
   },
   "outputs": [
    {
     "name": "stdout",
     "output_type": "stream",
     "text": [
      "Sum of square of numbers less than 6 = 55\n"
     ]
    }
   ],
   "source": [
    "\"\"\"\n",
    "Function to find the square sum of positive integers less than n using formula\n",
    "\n",
    "Input  : n -> A positive integer n\n",
    "Output : Sum of squares of all the positive integers less than n \n",
    "\"\"\"\n",
    "\n",
    "\n",
    "def sq_sum_2(n):\n",
    "\n",
    "    # Using the above formula to calculate the sum\n",
    "    s = ((n - 1) * (n) * (2 * n - 1)) // 6\n",
    "\n",
    "    # Return the sum of squares\n",
    "    return s\n",
    "\n",
    "\n",
    "# Testing the code\n",
    "n = 6\n",
    "print(\"Sum of square of numbers less than\", n, \"=\", sq_sum_2(n))"
   ]
  },
  {
   "cell_type": "markdown",
   "metadata": {},
   "source": [
    "<hr style=\"border:2px solid gray\"> </hr>"
   ]
  },
  {
   "cell_type": "markdown",
   "metadata": {},
   "source": [
    "\n",
    "__Q1. (b) Write a Python function that takes a positive integer $n$, and returns the sum of the squares of all the _odd_ positive integers smaller than $n$.__"
   ]
  },
  {
   "cell_type": "markdown",
   "metadata": {},
   "source": [
    "<hr style=\"border:1px solid gray\"> </hr>\n"
   ]
  },
  {
   "cell_type": "markdown",
   "metadata": {},
   "source": [
    "\n",
    "__Solution 1 : $O(n)$ Time Complexity__\n",
    "\n",
    "We run a loop to sum the squares of all the _odd_ integers less than $n$. This algorithm takes $O(n)$ time since we do at least $n/2$ operations for a given integer $n$."
   ]
  },
  {
   "cell_type": "code",
   "execution_count": 3,
   "metadata": {
    "scrolled": true
   },
   "outputs": [
    {
     "name": "stdout",
     "output_type": "stream",
     "text": [
      "Sum of square of odd numbers less than 6 = 35\n"
     ]
    }
   ],
   "source": [
    "\"\"\"\n",
    "Function to find the square sum of positive odd integers less than n using for loop\n",
    "\n",
    "Input  : n -> A positive integer n\n",
    "Output : Sum of squares of all the odd positive integers less than n \n",
    "\"\"\"\n",
    "\n",
    "\n",
    "def sq_odd_sum_1(n):\n",
    "\n",
    "    s = 0  # Variable to hold the sum of squares\n",
    "\n",
    "    # For loop runs over all odd positive numbers less than n\n",
    "    for i in range(1, n, 2):\n",
    "        # For each number we square it and add it to the final answer\n",
    "        s += i * i\n",
    "\n",
    "    # Return the sum of squares\n",
    "    return s\n",
    "\n",
    "\n",
    "# Testing the code\n",
    "n = 6\n",
    "print(\"Sum of square of odd numbers less than\", n, \"=\", sq_odd_sum_1(n))"
   ]
  },
  {
   "cell_type": "markdown",
   "metadata": {},
   "source": [
    "<hr style=\"border:1px solid gray\"> </hr>"
   ]
  },
  {
   "cell_type": "markdown",
   "metadata": {},
   "source": [
    "__Solution 2 : $O(1)$ Time Complexity__\n",
    "\n",
    "The formula for sum of square of _odd_ integers less than $n$ is given by:\n",
    "\n",
    "$$\n",
    "S_{n_{odd}^{2}} = \\frac{(k)(2k+1)(2k-1)}{3} ; k = \\left\\lfloor\\dfrac{n}{2}\\right\\rfloor\n",
    "$$\n",
    "\n",
    "We can use this formula to calculate the sum of squares of _odd_ integers less than $n$ in $O(1)$ time."
   ]
  },
  {
   "cell_type": "code",
   "execution_count": 4,
   "metadata": {},
   "outputs": [
    {
     "name": "stdout",
     "output_type": "stream",
     "text": [
      "Sum of square of odd numbers less than 6 = 35\n"
     ]
    }
   ],
   "source": [
    "\"\"\"\n",
    "Function to find the square sum of positive odd integers less than n using formula\n",
    "\n",
    "Input  : n -> A positive integer n\n",
    "Output : Sum of squares of all the odd positive integers less than n \n",
    "\"\"\"\n",
    "\n",
    "\n",
    "def sq_odd_sum_2(n):\n",
    "\n",
    "    k = n // 2  # Calculating the value of k to use in formula\n",
    "\n",
    "    # Using the above formula to calculate the sum\n",
    "    s = ((k) * (2 * k + 1) * (2 * k - 1)) // 3\n",
    "\n",
    "    # Return the sum of squares\n",
    "    return s\n",
    "\n",
    "\n",
    "# Testing the code\n",
    "n = 6\n",
    "print(\"Sum of square of odd numbers less than\", n, \"=\", sq_odd_sum_2(n))"
   ]
  },
  {
   "cell_type": "markdown",
   "metadata": {},
   "source": [
    "<hr style=\"border:2px solid gray\"> </hr>"
   ]
  },
  {
   "cell_type": "markdown",
   "metadata": {},
   "source": [
    "__Q2. What parameter values should be sent to the ```range``` constructor to produce a range with values:__"
   ]
  },
  {
   "cell_type": "markdown",
   "metadata": {},
   "source": [
    "\n",
    "<hr style=\"border:1px solid gray\"> </hr>"
   ]
  },
  {
   "cell_type": "markdown",
   "metadata": {},
   "source": [
    "__(a) 60,70,80__\n",
    "\n",
    "__Solution :__ The parameter values are as follows : ```range(60,81,10)```"
   ]
  },
  {
   "cell_type": "code",
   "execution_count": 5,
   "metadata": {},
   "outputs": [
    {
     "name": "stdout",
     "output_type": "stream",
     "text": [
      "60 70 80 "
     ]
    }
   ],
   "source": [
    "# Testing the parameter range\n",
    "for i in range(60, 81, 10):\n",
    "    print(i, end=\" \")"
   ]
  },
  {
   "cell_type": "markdown",
   "metadata": {},
   "source": [
    "\n",
    "<hr style=\"border:1px solid gray\"> </hr>"
   ]
  },
  {
   "cell_type": "markdown",
   "metadata": {},
   "source": [
    "__(b) 4,2,0,-2,-4__\n",
    "\n",
    "__Solution :__ The parameter values are as follows : ```range(4,-5,-2)```"
   ]
  },
  {
   "cell_type": "code",
   "execution_count": 6,
   "metadata": {},
   "outputs": [
    {
     "name": "stdout",
     "output_type": "stream",
     "text": [
      "4 2 0 -2 -4 "
     ]
    }
   ],
   "source": [
    "# Testing the parameter range\n",
    "for i in range(4, -5, -2):\n",
    "    print(i, end=\" \")"
   ]
  },
  {
   "cell_type": "markdown",
   "metadata": {},
   "source": [
    "<hr style=\"border:2px solid gray\"> </hr>"
   ]
  },
  {
   "cell_type": "markdown",
   "metadata": {},
   "source": [
    "__Q3. Write a Python function that takes a sequence of integer values and determines if there is a distinct pair of\n",
    "numbers in the sequence whose product is _odd_.__"
   ]
  },
  {
   "cell_type": "markdown",
   "metadata": {},
   "source": [
    "<hr style=\"border:1px solid gray\"> </hr>"
   ]
  },
  {
   "cell_type": "markdown",
   "metadata": {},
   "source": [
    "__Solution : $O(n)$ Time Complexity__\n",
    "\n",
    "The basic idea is only the product of two odd numbers can result in an odd number. Thus we iterate over the sequence and find if there are atleast two distinct pair of numbers which are odd. The algorithm is $O(n)$, where n is the number of elements in the sequence, since in the worst case we need to iterate over all the elements in the sequence."
   ]
  },
  {
   "cell_type": "code",
   "execution_count": 7,
   "metadata": {},
   "outputs": [
    {
     "name": "stdout",
     "output_type": "stream",
     "text": [
      "Sequence [2, 3, 4, 5] contains distinct odd product numbers\n",
      "Sequence [2, 3, 4]  does not contain distinct odd product numbers\n"
     ]
    }
   ],
   "source": [
    "\"\"\"\n",
    "Function to determine if there is a distinct pair of numbers in sequence \n",
    "whose product is odd\n",
    "\n",
    "Input  : l -> Sequence of numbers\n",
    "Output : Determines if there is a distinct pair of numbers in sequence \n",
    "whose product is odd\n",
    "\"\"\"\n",
    "\n",
    "\n",
    "def distinct_odd_prod(l):\n",
    "\n",
    "    c = 0  # Counter to keep count of number of odd numbers\n",
    "\n",
    "    # We iterate over the sequence\n",
    "    for i in l:\n",
    "\n",
    "        # We increase the counter if the number is odd\n",
    "        if i % 2 != 0:\n",
    "            c += 1\n",
    "\n",
    "        # Break out of loop if two odd numbers are encountered\n",
    "        if c >= 2:\n",
    "            break\n",
    "\n",
    "    # Determine whether the condition is satisfied\n",
    "    if c >= 2:\n",
    "        print(\n",
    "            \"Sequence\",\n",
    "            l,\n",
    "            \"contains distinct odd product numbers\",\n",
    "        )\n",
    "    else:\n",
    "        print(\n",
    "            \"Sequence\",\n",
    "            l,\n",
    "            \" does not contain distinct odd product numbers\",\n",
    "        )\n",
    "\n",
    "\n",
    "# Testing the code\n",
    "l = [2, 3, 4, 5]\n",
    "distinct_odd_prod(l)\n",
    "l = [2, 3, 4]\n",
    "distinct_odd_prod(l)"
   ]
  },
  {
   "cell_type": "markdown",
   "metadata": {},
   "source": [
    "<hr style=\"border:2px solid gray\"> </hr>"
   ]
  },
  {
   "cell_type": "markdown",
   "metadata": {},
   "source": [
    "__Q4. Write a Python function that counts the number of vowels in a given character string.__"
   ]
  },
  {
   "cell_type": "markdown",
   "metadata": {},
   "source": [
    "<hr style=\"border:1px solid gray\"> </hr>"
   ]
  },
  {
   "cell_type": "markdown",
   "metadata": {},
   "source": [
    "__Solution : $O(n)$  Time Complexity__\n",
    "\n",
    "We iterate over the string and check if the character is vowel or not and update a counter accordingly. The algorithm is $O(n)$, where n is the length of string since we need to go over all the characters in the string once to check if it is a vowel or consonant."
   ]
  },
  {
   "cell_type": "code",
   "execution_count": 8,
   "metadata": {
    "scrolled": true
   },
   "outputs": [
    {
     "name": "stdout",
     "output_type": "stream",
     "text": [
      "Number of vowels in aeiou = 5\n",
      "Number of vowels in urals = 2\n"
     ]
    }
   ],
   "source": [
    "\"\"\"\n",
    "Function to count the number of vowels in given string\n",
    "\n",
    "Input  : st -> Character string\n",
    "Output : Number of vowels \n",
    "\"\"\"\n",
    "\n",
    "\n",
    "def vowels_count(st):\n",
    "\n",
    "    c = 0  # Counter to keep count of number of vowels\n",
    "\n",
    "    vow = set([\"a\", \"e\", \"i\", \"o\", \"u\"])  # Set of vowels\n",
    "\n",
    "    # We iterate over the characters of string\n",
    "    for ch in st:\n",
    "\n",
    "        # We increase the counter if the character is vowel\n",
    "        if ch.lower() in vow:\n",
    "            c += 1\n",
    "\n",
    "    print(\"Number of vowels in\", st, \"=\", c)\n",
    "\n",
    "\n",
    "# Testing the code\n",
    "st = \"aeiou\"\n",
    "vowels_count(st)\n",
    "st = \"urals\"\n",
    "vowels_count(st)"
   ]
  },
  {
   "cell_type": "markdown",
   "metadata": {},
   "source": [
    "<hr style=\"border:2px solid gray\"> </hr>"
   ]
  },
  {
   "cell_type": "markdown",
   "metadata": {},
   "source": [
    "__Q5. Write a Python program that takes as input three integers, “a”, “b” and “c”, from the console and determines if they can be used in the following arithmetic formulas: (i) “a+b=c”, (ii) “a=b-c”, (iii) “a\\*b=c”.__"
   ]
  },
  {
   "cell_type": "markdown",
   "metadata": {},
   "source": [
    "<hr style=\"border:1px solid gray\"> </hr>"
   ]
  },
  {
   "cell_type": "markdown",
   "metadata": {},
   "source": [
    "__Solution : $O(1)$ Time Complexity__\n",
    "\n",
    "We take the input from the user and check if the inputs satisfy the equations. This can be checked in $O(1)$ time since no iteration is involved."
   ]
  },
  {
   "cell_type": "code",
   "execution_count": 9,
   "metadata": {},
   "outputs": [
    {
     "name": "stdout",
     "output_type": "stream",
     "text": [
      "Enter a = 0\n",
      "Enter b = 0\n",
      "Enter c = 0\n",
      "\n",
      "a+b=c is True\n",
      "a=b-c is True\n",
      "a*b=c is True\n"
     ]
    }
   ],
   "source": [
    "\"\"\"\n",
    "Python program to check if given input integers \n",
    "can be used in the above formulas\n",
    "\"\"\"\n",
    "\n",
    "# Getting input from the user\n",
    "a = int(input(\"Enter a = \"))\n",
    "b = int(input(\"Enter b = \"))\n",
    "c = int(input(\"Enter c = \"))\n",
    "\n",
    "# Checking if a+b=c\n",
    "e = a + b\n",
    "f1 = e == c  # Boolean variable which stores if a+b=c is True or False\n",
    "\n",
    "# Checking if a=b-c\n",
    "f = b - c\n",
    "f2 = f == a  # Boolean variable which stores if a=b-c is True or False\n",
    "\n",
    "# Checking if a*b=c\n",
    "g = a * b\n",
    "f3 = g == c  # Boolean variable which stores if a*b=c is True or False\n",
    "\n",
    "# Checking which all equations are possible\n",
    "print()  # Dummy print for spacing\n",
    "if f1:\n",
    "    print(\"a+b=c is True\")\n",
    "if f2:\n",
    "    print(\"a=b-c is True\")\n",
    "if f3:\n",
    "    print(\"a*b=c is True\")\n",
    "if not (f1 or f2 or f3):\n",
    "    print(\"None of the equations are True\")"
   ]
  },
  {
   "cell_type": "markdown",
   "metadata": {},
   "source": [
    "<hr style=\"border:2px solid gray\"> </hr>"
   ]
  },
  {
   "cell_type": "markdown",
   "metadata": {},
   "source": [
    "__Q6. Write a Python function that takes a sequence of numbers and determines if all the numbers are different from each other (that is, they are distinct).__"
   ]
  },
  {
   "cell_type": "markdown",
   "metadata": {},
   "source": [
    "<hr style=\"border:1px solid gray\"> </hr>"
   ]
  },
  {
   "cell_type": "markdown",
   "metadata": {},
   "source": [
    "__Solution : $O(n)$ Time Complexity__\n",
    "\n",
    "We use the idea that if all the elements of a sequence are distinct, then the length of the given sequence and the length of a new sequence containing all distinct elements should be the same. This can be achieved in Python by using the `set` function. \n",
    "- We create a set from the sequence and compare its length with the original sequence. \n",
    "- If they are the same, then all the elements in the list are distinct and vice-versa. \n",
    "\n",
    "The creation of the set from the list is of $O(n)$ time complexity where $n$ is the length of the array and since accessing the lengths is $O(1)$, the overall time complexity is $O(n)$."
   ]
  },
  {
   "cell_type": "code",
   "execution_count": 10,
   "metadata": {},
   "outputs": [
    {
     "name": "stdout",
     "output_type": "stream",
     "text": [
      "[1, 2, 3, 4, 5]  - All numbers in the sequence are distinct\n",
      "[1, 1, 2]  - The sequence contains duplicate numbers\n"
     ]
    }
   ],
   "source": [
    "\"\"\"\n",
    "Function to check if all numbers in sequence are distinct\n",
    "\n",
    "Input  : l -> Sequence of numbers\n",
    "Output : Determines if the list contains unique elements or not\n",
    "\"\"\"\n",
    "\n",
    "\n",
    "def distinct_sequence(l):\n",
    "\n",
    "    l_set = set(l)  # Creating the set from the list\n",
    "\n",
    "    # Comparing the lengths\n",
    "    if len(l) == len(l_set):\n",
    "        print(l, \" - All numbers in the sequence are distinct\")\n",
    "    else:\n",
    "        print(l, \" - The sequence contains duplicate numbers\")\n",
    "\n",
    "\n",
    "# Testing the code\n",
    "l = [1, 2, 3, 4, 5]\n",
    "distinct_sequence(l)\n",
    "l = [1, 1, 2]\n",
    "distinct_sequence(l)"
   ]
  },
  {
   "cell_type": "markdown",
   "metadata": {},
   "source": [
    "<hr style=\"border:2px solid gray\"> </hr>"
   ]
  },
  {
   "cell_type": "markdown",
   "metadata": {},
   "source": [
    "__Q7. Design a program that can test the Birthday problem, by a series of experiments, on randomly generated\n",
    "birthdays which test this paradox for n = 5,10,15,20,25,30...200.__"
   ]
  },
  {
   "cell_type": "markdown",
   "metadata": {},
   "source": [
    "<hr style=\"border:1px solid gray\"> </hr>"
   ]
  },
  {
   "cell_type": "markdown",
   "metadata": {},
   "source": [
    "__Solution : $O(n^2)$ Time Complexity__\n",
    "\n",
    "We run multiple experiments for a given $n$ value as follows:\n",
    "\n",
    "- Generate $n$ birthdays which are numbers between 0-364\n",
    "- We check if there are any repeating values in the given array which is similar to what we did in the previous question\n",
    "- We repeat the above process 10,000 times and find the fraction of times where there was a repeating birthday. This fraction gives us the approximate probability\n",
    "\n",
    "The given solution is $O(n^2)$ time complexity since there are n number of $O(n)$ operations to be done which effectively makes the solution $O(n^2)$. (Here we ignore the 10,000 iterations since its a constant in this case)"
   ]
  },
  {
   "cell_type": "code",
   "execution_count": 11,
   "metadata": {
    "scrolled": false
   },
   "outputs": [
    {
     "data": {
      "image/png": "[encoded data removed]",
      "text/plain": [
       "<Figure size 432x288 with 1 Axes>"
      ]
     },
     "metadata": {
      "needs_background": "light"
     },
     "output_type": "display_data"
    }
   ],
   "source": [
    "\"\"\"\n",
    "Python program to test the birthday problem\n",
    "\"\"\"\n",
    "\n",
    "import random  # For generating random birthdays\n",
    "import matplotlib.pyplot as plt  # To display the output\n",
    "\n",
    "random.seed(2021)\n",
    "\n",
    "birthday_lists = []\n",
    "\n",
    "n_min = 5\n",
    "n_max = 200\n",
    "n_diff = 5\n",
    "n_iters = 10000\n",
    "\n",
    "# Generating random birthdays\n",
    "for i in range(n_iters):\n",
    "    l = []\n",
    "    for i in range(n_max):\n",
    "        l.append(random.randint(0, 365))\n",
    "    birthday_lists.append(l)\n",
    "\n",
    "\n",
    "def check_repeat_birthday(l):\n",
    "\n",
    "    l_set = set(l)  # Creating a set from the list\n",
    "\n",
    "    # Return True or False based on whether there is a repeating birthday\n",
    "    if len(l) == len(l_set):\n",
    "        return False\n",
    "    else:\n",
    "        return True\n",
    "\n",
    "\n",
    "n_array = []\n",
    "p_array = []\n",
    "\n",
    "for n in range(n_min, n_max + 1, n_diff):\n",
    "    t = 0  # Counter to keep track of number of successes\n",
    "    for i in range(n_iters):\n",
    "        if check_repeat_birthday(birthday_lists[i][:n]):\n",
    "            t += 1\n",
    "    # Finding the probability as the fraction of times we have overlapping birthdays\n",
    "    n_array.append(n)\n",
    "    p_array.append(t / n_iters)\n",
    "\n",
    "# Visualizing the result via plot\n",
    "plt.plot(n_array, p_array)\n",
    "plt.scatter(n_array, p_array)\n",
    "plt.title(\"Number of People vs Probability of Shared Birthday\")\n",
    "plt.xlabel(\"Number of People\")\n",
    "plt.ylabel(\"Probability of Shared Birthday\")\n",
    "plt.grid()\n",
    "plt.show()"
   ]
  },
  {
   "cell_type": "markdown",
   "metadata": {},
   "source": [
    "<hr style=\"border:2px solid gray\"> </hr>"
   ]
  },
  {
   "cell_type": "markdown",
   "metadata": {},
   "source": [
    "__Q8. Write a Python program that outputs all possible strings formed by using the characters ‘c’, ‘a’,\n",
    "‘t’, ‘d’, ‘o’, and ‘g’ exactly once.__"
   ]
  },
  {
   "cell_type": "markdown",
   "metadata": {},
   "source": [
    "<hr style=\"border:1px solid gray\"> </hr>"
   ]
  },
  {
   "cell_type": "markdown",
   "metadata": {},
   "source": [
    "__Solution : $O(n!)$ Time Complexity__\n",
    "\n",
    "To find all the permutations using the given characters, we need to use the concept of recursion and backtracking. We define the function to find the permutations as following : \n",
    "\n",
    "- We start from the beginning of the string, iterate till the end of the string. The function takes in _step_ value as input which denotes until what point the recursion has proceeded.\n",
    "- In each iteration we swap the current and _step_ element in the string and we recursively apply the function on the part which has not been swapped.\n",
    "- When _step_ becomes equal to the number of characters, we stop and print the string.\n",
    "\n",
    "This is of $O(n!)$ time complexity where $n$ is the number of characters, since there are $n!$ permutations of the string."
   ]
  },
  {
   "cell_type": "code",
   "execution_count": 12,
   "metadata": {
    "scrolled": false
   },
   "outputs": [
    {
     "name": "stdout",
     "output_type": "stream",
     "text": [
      "\n",
      "  1 : catdog\t  2 : catdgo\t  3 : catgdo\t  4 : catgod\t  5 : catdog\t\n",
      "  6 : catdgo\t  7 : cadtgo\t  8 : cadtog\t  9 : cadotg\t 10 : cadogt\t\n",
      " 11 : cadtgo\t 12 : cadtog\t 13 : caotdg\t 14 : caotgd\t 15 : caogtd\t\n",
      " 16 : caogdt\t 17 : caotdg\t 18 : caotgd\t 19 : cadtgo\t 20 : cadtog\t\n",
      " 21 : cadotg\t 22 : cadogt\t 23 : cadtgo\t 24 : cadtog\t 25 : cdatog\t\n",
      " 26 : cdatgo\t 27 : cdagto\t 28 : cdagot\t 29 : cdatog\t 30 : cdatgo\t\n",
      " 31 : cdtago\t 32 : cdtaog\t 33 : cdtoag\t 34 : cdtoga\t 35 : cdtago\t\n",
      " 36 : cdtaog\t 37 : cdoatg\t 38 : cdoagt\t 39 : cdogat\t 40 : cdogta\t\n",
      " 41 : cdoatg\t 42 : cdoagt\t 43 : cdtago\t 44 : cdtaog\t 45 : cdtoag\t\n",
      " 46 : cdtoga\t 47 : cdtago\t 48 : cdtaog\t 49 : catdog\t 50 : catdgo\t\n",
      " 51 : catgdo\t 52 : catgod\t 53 : catdog\t 54 : catdgo\t 55 : cadtgo\t\n",
      " 56 : cadtog\t 57 : cadotg\t 58 : cadogt\t 59 : cadtgo\t 60 : cadtog\t\n",
      " 61 : caotdg\t 62 : caotgd\t 63 : caogtd\t 64 : caogdt\t 65 : caotdg\t\n",
      " 66 : caotgd\t 67 : cadtgo\t 68 : cadtog\t 69 : cadotg\t 70 : cadogt\t\n",
      " 71 : cadtgo\t 72 : cadtog\t 73 : codtag\t 74 : codtga\t 75 : codgta\t\n",
      " 76 : codgat\t 77 : codtag\t 78 : codtga\t 79 : cotdga\t 80 : cotdag\t\n",
      " 81 : cotadg\t 82 : cotagd\t 83 : cotdga\t 84 : cotdag\t 85 : coadtg\t\n",
      " 86 : coadgt\t 87 : coagdt\t 88 : coagtd\t 89 : coadtg\t 90 : coadgt\t\n",
      " 91 : cotdga\t 92 : cotdag\t 93 : cotadg\t 94 : cotagd\t 95 : cotdga\t\n",
      " 96 : cotdag\t 97 : cgtdao\t 98 : cgtdoa\t 99 : cgtoda\t100 : cgtoad\t\n",
      "101 : cgtdao\t102 : cgtdoa\t103 : cgdtoa\t104 : cgdtao\t105 : cgdato\t\n",
      "106 : cgdaot\t107 : cgdtoa\t108 : cgdtao\t109 : cgatdo\t110 : cgatod\t\n",
      "111 : cgaotd\t112 : cgaodt\t113 : cgatdo\t114 : cgatod\t115 : cgdtoa\t\n",
      "116 : cgdtao\t117 : cgdato\t118 : cgdaot\t119 : cgdtoa\t120 : cgdtao\t\n",
      "121 : gcdtao\t122 : gcdtoa\t123 : gcdota\t124 : gcdoat\t125 : gcdtao\t\n",
      "126 : gcdtoa\t127 : gctdoa\t128 : gctdao\t129 : gctado\t130 : gctaod\t\n",
      "131 : gctdoa\t132 : gctdao\t133 : gcadto\t134 : gcadot\t135 : gcaodt\t\n",
      "136 : gcaotd\t137 : gcadto\t138 : gcadot\t139 : gctdoa\t140 : gctdao\t\n",
      "141 : gctado\t142 : gctaod\t143 : gctdoa\t144 : gctdao\t145 : gtcdao\t\n",
      "146 : gtcdoa\t147 : gtcoda\t148 : gtcoad\t149 : gtcdao\t150 : gtcdoa\t\n",
      "151 : gtdcoa\t152 : gtdcao\t153 : gtdaco\t154 : gtdaoc\t155 : gtdcoa\t\n",
      "156 : gtdcao\t157 : gtacdo\t158 : gtacod\t159 : gtaocd\t160 : gtaodc\t\n",
      "161 : gtacdo\t162 : gtacod\t163 : gtdcoa\t164 : gtdcao\t165 : gtdaco\t\n",
      "166 : gtdaoc\t167 : gtdcoa\t168 : gtdcao\t169 : gcdtao\t170 : gcdtoa\t\n",
      "171 : gcdota\t172 : gcdoat\t173 : gcdtao\t174 : gcdtoa\t175 : gctdoa\t\n",
      "176 : gctdao\t177 : gctado\t178 : gctaod\t179 : gctdoa\t180 : gctdao\t\n",
      "181 : gcadto\t182 : gcadot\t183 : gcaodt\t184 : gcaotd\t185 : gcadto\t\n",
      "186 : gcadot\t187 : gctdoa\t188 : gctdao\t189 : gctado\t190 : gctaod\t\n",
      "191 : gctdoa\t192 : gctdao\t193 : gatdco\t194 : gatdoc\t195 : gatodc\t\n",
      "196 : gatocd\t197 : gatdco\t198 : gatdoc\t199 : gadtoc\t200 : gadtco\t\n",
      "201 : gadcto\t202 : gadcot\t203 : gadtoc\t204 : gadtco\t205 : gactdo\t\n",
      "206 : gactod\t207 : gacotd\t208 : gacodt\t209 : gactdo\t210 : gactod\t\n",
      "211 : gadtoc\t212 : gadtco\t213 : gadcto\t214 : gadcot\t215 : gadtoc\t\n",
      "216 : gadtco\t217 : godtca\t218 : godtac\t219 : godatc\t220 : godact\t\n",
      "221 : godtca\t222 : godtac\t223 : gotdac\t224 : gotdca\t225 : gotcda\t\n",
      "226 : gotcad\t227 : gotdac\t228 : gotdca\t229 : gocdta\t230 : gocdat\t\n",
      "231 : gocadt\t232 : gocatd\t233 : gocdta\t234 : gocdat\t235 : gotdac\t\n",
      "236 : gotdca\t237 : gotcda\t238 : gotcad\t239 : gotdac\t240 : gotdca\t\n",
      "241 : togdca\t242 : togdac\t243 : togadc\t244 : togacd\t245 : togdca\t\n",
      "246 : togdac\t247 : todgac\t248 : todgca\t249 : todcga\t250 : todcag\t\n",
      "251 : todgac\t252 : todgca\t253 : tocgda\t254 : tocgad\t255 : tocagd\t\n",
      "256 : tocadg\t257 : tocgda\t258 : tocgad\t259 : todgac\t260 : todgca\t\n",
      "261 : todcga\t262 : todcag\t263 : todgac\t264 : todgca\t265 : tdogca\t\n",
      "266 : tdogac\t267 : tdoagc\t268 : tdoacg\t269 : tdogca\t270 : tdogac\t\n",
      "271 : tdgoac\t272 : tdgoca\t273 : tdgcoa\t274 : tdgcao\t275 : tdgoac\t\n",
      "276 : tdgoca\t277 : tdcoga\t278 : tdcoag\t279 : tdcaog\t280 : tdcago\t\n",
      "281 : tdcoga\t282 : tdcoag\t283 : tdgoac\t284 : tdgoca\t285 : tdgcoa\t\n",
      "286 : tdgcao\t287 : tdgoac\t288 : tdgoca\t289 : togdca\t290 : togdac\t\n",
      "291 : togadc\t292 : togacd\t293 : togdca\t294 : togdac\t295 : todgac\t\n",
      "296 : todgca\t297 : todcga\t298 : todcag\t299 : todgac\t300 : todgca\t\n",
      "301 : tocgda\t302 : tocgad\t303 : tocagd\t304 : tocadg\t305 : tocgda\t\n",
      "306 : tocgad\t307 : todgac\t308 : todgca\t309 : todcga\t310 : todcag\t\n",
      "311 : todgac\t312 : todgca\t313 : tcdgoa\t314 : tcdgao\t315 : tcdago\t\n",
      "316 : tcdaog\t317 : tcdgoa\t318 : tcdgao\t319 : tcgdao\t320 : tcgdoa\t\n",
      "321 : tcgoda\t322 : tcgoad\t323 : tcgdao\t324 : tcgdoa\t325 : tcodga\t\n",
      "326 : tcodag\t327 : tcoadg\t328 : tcoagd\t329 : tcodga\t330 : tcodag\t\n",
      "331 : tcgdao\t332 : tcgdoa\t333 : tcgoda\t334 : tcgoad\t335 : tcgdao\t\n",
      "336 : tcgdoa\t337 : tagdoc\t338 : tagdco\t339 : tagcdo\t340 : tagcod\t\n",
      "341 : tagdoc\t342 : tagdco\t343 : tadgco\t344 : tadgoc\t345 : tadogc\t\n",
      "346 : tadocg\t347 : tadgco\t348 : tadgoc\t349 : taogdc\t350 : taogcd\t\n",
      "351 : taocgd\t352 : taocdg\t353 : taogdc\t354 : taogcd\t355 : tadgco\t\n",
      "356 : tadgoc\t357 : tadogc\t358 : tadocg\t359 : tadgco\t360 : tadgoc\t\n",
      "361 : gadtoc\t362 : gadtco\t363 : gadcto\t364 : gadcot\t365 : gadtoc\t\n",
      "366 : gadtco\t367 : gatdco\t368 : gatdoc\t369 : gatodc\t370 : gatocd\t\n",
      "371 : gatdco\t372 : gatdoc\t373 : gaodtc\t374 : gaodct\t375 : gaocdt\t\n",
      "376 : gaoctd\t377 : gaodtc\t378 : gaodct\t379 : gatdco\t380 : gatdoc\t\n",
      "381 : gatodc\t382 : gatocd\t383 : gatdco\t384 : gatdoc\t385 : gtadoc\t\n",
      "386 : gtadco\t387 : gtacdo\t388 : gtacod\t389 : gtadoc\t390 : gtadco\t\n",
      "391 : gtdaco\t392 : gtdaoc\t393 : gtdoac\t394 : gtdoca\t395 : gtdaco\t\n",
      "396 : gtdaoc\t397 : gtoadc\t398 : gtoacd\t399 : gtocad\t400 : gtocda\t\n",
      "401 : gtoadc\t402 : gtoacd\t403 : gtdaco\t404 : gtdaoc\t405 : gtdoac\t\n",
      "406 : gtdoca\t407 : gtdaco\t408 : gtdaoc\t409 : gadtoc\t410 : gadtco\t\n",
      "411 : gadcto\t412 : gadcot\t413 : gadtoc\t414 : gadtco\t415 : gatdco\t\n",
      "416 : gatdoc\t417 : gatodc\t418 : gatocd\t419 : gatdco\t420 : gatdoc\t\n",
      "421 : gaodtc\t422 : gaodct\t423 : gaocdt\t424 : gaoctd\t425 : gaodtc\t\n",
      "426 : gaodct\t427 : gatdco\t428 : gatdoc\t429 : gatodc\t430 : gatocd\t\n",
      "431 : gatdco\t432 : gatdoc\t433 : gotdac\t434 : gotdca\t435 : gotcda\t\n",
      "436 : gotcad\t437 : gotdac\t438 : gotdca\t439 : godtca\t440 : godtac\t\n",
      "441 : godatc\t442 : godact\t443 : godtca\t444 : godtac\t445 : goatdc\t\n",
      "446 : goatcd\t447 : goactd\t448 : goacdt\t449 : goatdc\t450 : goatcd\t\n",
      "451 : godtca\t452 : godtac\t453 : godatc\t454 : godact\t455 : godtca\t\n",
      "456 : godtac\t457 : gcdtao\t458 : gcdtoa\t459 : gcdota\t460 : gcdoat\t\n",
      "461 : gcdtao\t462 : gcdtoa\t463 : gctdoa\t464 : gctdao\t465 : gctado\t\n",
      "466 : gctaod\t467 : gctdoa\t468 : gctdao\t469 : gcadto\t470 : gcadot\t\n",
      "471 : gcaodt\t472 : gcaotd\t473 : gcadto\t474 : gcadot\t475 : gctdoa\t\n",
      "476 : gctdao\t477 : gctado\t478 : gctaod\t479 : gctdoa\t480 : gctdao\t\n",
      "481 : actdgo\t482 : actdog\t483 : actodg\t484 : actogd\t485 : actdgo\t\n",
      "486 : actdog\t487 : acdtog\t488 : acdtgo\t489 : acdgto\t490 : acdgot\t\n",
      "491 : acdtog\t492 : acdtgo\t493 : acgtdo\t494 : acgtod\t495 : acgotd\t\n",
      "496 : acgodt\t497 : acgtdo\t498 : acgtod\t499 : acdtog\t500 : acdtgo\t\n",
      "501 : acdgto\t502 : acdgot\t503 : acdtog\t504 : acdtgo\t505 : adctgo\t\n",
      "506 : adctog\t507 : adcotg\t508 : adcogt\t509 : adctgo\t510 : adctog\t\n",
      "511 : adtcog\t512 : adtcgo\t513 : adtgco\t514 : adtgoc\t515 : adtcog\t\n",
      "516 : adtcgo\t517 : adgcto\t518 : adgcot\t519 : adgoct\t520 : adgotc\t\n",
      "521 : adgcto\t522 : adgcot\t523 : adtcog\t524 : adtcgo\t525 : adtgco\t\n",
      "526 : adtgoc\t527 : adtcog\t528 : adtcgo\t529 : actdgo\t530 : actdog\t\n",
      "531 : actodg\t532 : actogd\t533 : actdgo\t534 : actdog\t535 : acdtog\t\n",
      "536 : acdtgo\t537 : acdgto\t538 : acdgot\t539 : acdtog\t540 : acdtgo\t\n",
      "541 : acgtdo\t542 : acgtod\t543 : acgotd\t544 : acgodt\t545 : acgtdo\t\n",
      "546 : acgtod\t547 : acdtog\t548 : acdtgo\t549 : acdgto\t550 : acdgot\t\n",
      "551 : acdtog\t552 : acdtgo\t553 : agdtco\t554 : agdtoc\t555 : agdotc\t\n",
      "556 : agdoct\t557 : agdtco\t558 : agdtoc\t559 : agtdoc\t560 : agtdco\t\n",
      "561 : agtcdo\t562 : agtcod\t563 : agtdoc\t564 : agtdco\t565 : agcdto\t\n",
      "566 : agcdot\t567 : agcodt\t568 : agcotd\t569 : agcdto\t570 : agcdot\t\n",
      "571 : agtdoc\t572 : agtdco\t573 : agtcdo\t574 : agtcod\t575 : agtdoc\t\n",
      "576 : agtdco\t577 : aotdcg\t578 : aotdgc\t579 : aotgdc\t580 : aotgcd\t\n",
      "581 : aotdcg\t582 : aotdgc\t583 : aodtgc\t584 : aodtcg\t585 : aodctg\t\n",
      "586 : aodcgt\t587 : aodtgc\t588 : aodtcg\t589 : aoctdg\t590 : aoctgd\t\n",
      "591 : aocgtd\t592 : aocgdt\t593 : aoctdg\t594 : aoctgd\t595 : aodtgc\t\n",
      "596 : aodtcg\t597 : aodctg\t598 : aodcgt\t599 : aodtgc\t600 : aodtcg\t\n",
      "601 : godtca\t602 : godtac\t603 : godatc\t604 : godact\t605 : godtca\t\n",
      "606 : godtac\t607 : gotdac\t608 : gotdca\t609 : gotcda\t610 : gotcad\t\n",
      "611 : gotdac\t612 : gotdca\t613 : gocdta\t614 : gocdat\t615 : gocadt\t\n",
      "616 : gocatd\t617 : gocdta\t618 : gocdat\t619 : gotdac\t620 : gotdca\t\n",
      "621 : gotcda\t622 : gotcad\t623 : gotdac\t624 : gotdca\t625 : gtodca\t\n",
      "626 : gtodac\t627 : gtoadc\t628 : gtoacd\t629 : gtodca\t630 : gtodac\t\n",
      "631 : gtdoac\t632 : gtdoca\t633 : gtdcoa\t634 : gtdcao\t635 : gtdoac\t\n",
      "636 : gtdoca\t637 : gtcoda\t638 : gtcoad\t639 : gtcaod\t640 : gtcado\t\n",
      "641 : gtcoda\t642 : gtcoad\t643 : gtdoac\t644 : gtdoca\t645 : gtdcoa\t\n",
      "646 : gtdcao\t647 : gtdoac\t648 : gtdoca\t649 : godtca\t650 : godtac\t\n",
      "651 : godatc\t652 : godact\t653 : godtca\t654 : godtac\t655 : gotdac\t\n",
      "656 : gotdca\t657 : gotcda\t658 : gotcad\t659 : gotdac\t660 : gotdca\t\n",
      "661 : gocdta\t662 : gocdat\t663 : gocadt\t664 : gocatd\t665 : gocdta\t\n",
      "666 : gocdat\t667 : gotdac\t668 : gotdca\t669 : gotcda\t670 : gotcad\t\n",
      "671 : gotdac\t672 : gotdca\t673 : gctdoa\t674 : gctdao\t675 : gctado\t\n",
      "676 : gctaod\t677 : gctdoa\t678 : gctdao\t679 : gcdtao\t680 : gcdtoa\t\n",
      "681 : gcdota\t682 : gcdoat\t683 : gcdtao\t684 : gcdtoa\t685 : gcotda\t\n",
      "686 : gcotad\t687 : gcoatd\t688 : gcoadt\t689 : gcotda\t690 : gcotad\t\n",
      "691 : gcdtao\t692 : gcdtoa\t693 : gcdota\t694 : gcdoat\t695 : gcdtao\t\n",
      "696 : gcdtoa\t697 : gadtoc\t698 : gadtco\t699 : gadcto\t700 : gadcot\t\n",
      "701 : gadtoc\t702 : gadtco\t703 : gatdco\t704 : gatdoc\t705 : gatodc\t\n",
      "706 : gatocd\t707 : gatdco\t708 : gatdoc\t709 : gaodtc\t710 : gaodct\t\n",
      "711 : gaocdt\t712 : gaoctd\t713 : gaodtc\t714 : gaodct\t715 : gatdco\t\n",
      "716 : gatdoc\t717 : gatodc\t718 : gatocd\t719 : gatdco\t720 : gatdoc\t"
     ]
    }
   ],
   "source": [
    "\"\"\"\n",
    "Python program to find all the strings generated using \n",
    "‘c’, ‘a’, ‘t’, ‘d’, ‘o’, and ‘g’\n",
    "\"\"\"\n",
    "\n",
    "c = 0  # Counter to check number of strings generated\n",
    "\n",
    "\n",
    "def permutation_string(l, step):\n",
    "    global c  # Defining the global variable inside the function\n",
    "\n",
    "    # If step is equal to length of l we print the resulting array\n",
    "    if step == len(l):\n",
    "        c += 1\n",
    "        if (c - 1) % 5 == 0:\n",
    "            print()\n",
    "        print(\"{:3} : {}\".format(c, \"\".join(l)),\n",
    "              end=\"\\t\")  # Formatted printing\n",
    "    else:\n",
    "        # Loop to find the iterations over step-len(l)\n",
    "        for i in range(step, len(l)):\n",
    "            l[i], l[step] = (\n",
    "                l[step],\n",
    "                l[i],\n",
    "            )  # We swap i with step to create new permutation\n",
    "            permutation_string(\n",
    "                l, step + 1)  # Recursive call to create further permutations\n",
    "\n",
    "\n",
    "l = [\"c\", \"a\", \"t\", \"d\", \"o\", \"g\"]\n",
    "permutation_string(l, 0)"
   ]
  },
  {
   "cell_type": "markdown",
   "metadata": {},
   "source": [
    "<hr style=\"border:2px solid gray\"> </hr>"
   ]
  },
  {
   "cell_type": "markdown",
   "metadata": {},
   "source": [
    "__Q9. Write a Python program that can take a positive integer greater than 2 as input and write out the number\n",
    "of times one must repeatedly divide this number by 2 before getting a value less than 2.__"
   ]
  },
  {
   "cell_type": "markdown",
   "metadata": {},
   "source": [
    "<hr style=\"border:1px solid gray\"> </hr>"
   ]
  },
  {
   "cell_type": "markdown",
   "metadata": {},
   "source": [
    "__Solution 1 : $O(log(n))$ Time Complexity__\n",
    "\n",
    "We keep dividing the number by 2 until the result becomes less than 2. This will take $O(log(n))$ time since we need to do at least log(n) divisions"
   ]
  },
  {
   "cell_type": "code",
   "execution_count": 13,
   "metadata": {},
   "outputs": [
    {
     "name": "stdout",
     "output_type": "stream",
     "text": [
      "Enter the number : 6\n",
      "\n",
      "We need to divide 6 by 2 atleast\u001b[1m 2 \u001b[0;0mtimes to get 1.5 < 2\n"
     ]
    }
   ],
   "source": [
    "\"\"\"\n",
    "Python program to find number of times to divide a \n",
    "given number by 2 to get a value less than 2 \n",
    "\"\"\"\n",
    "\n",
    "n = int(input(\"Enter the number : \"))  # Getting the number as input\n",
    "\n",
    "c = 0  # Counter to count number of divisions done\n",
    "\n",
    "k = n  # Placeholder for repeated division\n",
    "\n",
    "# Run the loop until the number becomes less than 2\n",
    "while k >= 2:\n",
    "    k = k / 2  # Dividing by 2\n",
    "    c += 1  # Increasing the counter\n",
    "\n",
    "print(\n",
    "    \"\\nWe need to divide\",\n",
    "    n,\n",
    "    \"by 2 atleast\\033[1m\",\n",
    "    c,\n",
    "    \"\\033[0;0mtimes to get\",\n",
    "    k,\n",
    "    \"< 2\",\n",
    ")  # Printing the answer"
   ]
  },
  {
   "cell_type": "markdown",
   "metadata": {},
   "source": [
    "<hr style=\"border:1px solid gray\"> </hr>"
   ]
  },
  {
   "cell_type": "markdown",
   "metadata": {},
   "source": [
    "__Solution 2 : $O(1)$ Time Complexity__\n",
    "\n",
    "We can get the same answer above by taking the $\\left\\lfloor log_2(n)\\right\\rfloor$"
   ]
  },
  {
   "cell_type": "code",
   "execution_count": 14,
   "metadata": {},
   "outputs": [
    {
     "name": "stdout",
     "output_type": "stream",
     "text": [
      "Enter the number : 6\n",
      "\n",
      "We need to divide 6 by 2 atleast\u001b[1m 2 \u001b[0;0mtimes to get 1.5 < 2\n"
     ]
    }
   ],
   "source": [
    "\"\"\"\n",
    "Python program to find number of times to divide a \n",
    "given number by 2 to get a value less than 2 \n",
    "\"\"\"\n",
    "\n",
    "from math import log2, floor\n",
    "\n",
    "n = int(input(\"Enter the number : \"))  # Getting the number as input\n",
    "\n",
    "c = floor(log2(n))\n",
    "\n",
    "k = n / 2**(c)\n",
    "print(\n",
    "    \"\\nWe need to divide\",\n",
    "    n,\n",
    "    \"by 2 atleast\\033[1m\",\n",
    "    c,\n",
    "    \"\\033[0;0mtimes to get\",\n",
    "    k,\n",
    "    \"< 2\",\n",
    ")  # Printing the answer"
   ]
  }
 ],
 "metadata": {
  "kernelspec": {
   "display_name": "Python 3",
   "language": "python",
   "name": "python3"
  },
  "language_info": {
   "codemirror_mode": {
    "name": "ipython",
    "version": 3
   },
   "file_extension": ".py",
   "mimetype": "text/x-python",
   "name": "python",
   "nbconvert_exporter": "python",
   "pygments_lexer": "ipython3",
   "version": "3.7.4"
  }
 },
 "nbformat": 4,
 "nbformat_minor": 4
}
