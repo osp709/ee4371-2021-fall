{
 "cells": [
  {
   "cell_type": "markdown",
   "metadata": {
    "id": "BwWrDUyUOvuq"
   },
   "source": [
    "<h1><center>EE4371 - Final Exam</center></h1>\n",
    "<h3><center>Om Shri Prasath, EE17B113</center></h3>\n",
    "<hr style=\\\"border:2px solid gray\\\"> </hr>"
   ]
  },
  {
   "cell_type": "markdown",
   "metadata": {
    "id": "ABM4S_o_O43h"
   },
   "source": [
    "__1. You are given an array of n elements, and you notice that some of the elements are duplicates; that is,\n",
    "they appear more than once in array. Show how to remove all duplicates from the array in time $O(n\\log{n})$__"
   ]
  },
  {
   "cell_type": "markdown",
   "metadata": {},
   "source": [
    "<hr style=\\\"border:1px solid gray\\\"> </hr>"
   ]
  },
  {
   "cell_type": "markdown",
   "metadata": {},
   "source": [
    "__Solution: $O(n\\log{n})$ Time Complexity__\n",
    "\n",
    "The solution to remove the duplicates in $O(n\\log{n})$ time complexity is as follows :\n",
    "- We sort the array `arr`\n",
    "- We start two iterators `i` which starts from the beginning of the array, and `j` starts from the second element of the array (assuming that the array has more than one element).\n",
    "- Until j reaches the end of the array we do the following :\n",
    "    - We compare `arr[i]` and `arr[j]`\n",
    "    - If they are not same, we give an increment of 1 to `i` and assign `a[j]` to `a[i]`\n",
    "    - If they are the same, we just continue\n",
    "    - We give an increment of 1 to `j` irrespective of the above condition\n",
    "- We return `arr[:i+1]` which contains all the unique elements in the array"
   ]
  },
  {
   "cell_type": "code",
   "execution_count": 1,
   "metadata": {
    "id": "mgQ5THawPJ5Y"
   },
   "outputs": [
    {
     "name": "stdout",
     "output_type": "stream",
     "text": [
      "Original array with duplicates : [1, 2, 4, 2, 2, 4, 2, 1, 3, 4, 6, 3, 2, 2, 5, 5, 6]\n",
      "Array with duplicates removed  : [1, 2, 3, 4, 5, 6]\n"
     ]
    },
    {
     "data": {
      "application/javascript": [
       "\n",
       "            setTimeout(function() {\n",
       "                var nbb_cell_id = 1;\n",
       "                var nbb_unformatted_code = \"%load_ext nb_black\\n\\\"\\\"\\\"\\nFunction to remove duplicates from array\\n\\nInput  : Array\\nOutput : Array with duplicates removed\\n\\\"\\\"\\\"\\n\\n\\ndef remove_duplicates(arr):\\n    # Get the length of the array\\n    n = len(arr)\\n    # Sort the array\\n    arr.sort()\\n    # Initialize the iterators\\n    i = 0\\n    j = 1\\n    # Loop to overwrite the duplicate\\n    while j < n:\\n        # Overwrite a[i] with a[j]\\n        if arr[i] != arr[j]:\\n            i += 1\\n            arr[i] = arr[j]\\n        j += 1\\n    # Return array without duplicates\\n    return arr[: i + 1]\\n\\n\\n# Test the function\\n\\narr = [1, 2, 4, 2, 2, 4, 2, 1, 3, 4, 6, 3, 2, 2, 5, 5, 6]\\nprint(\\\"Original array with duplicates :\\\", arr)\\nprint(\\\"Array with duplicates removed  :\\\", remove_duplicates(arr[:]))\";\n",
       "                var nbb_formatted_code = \"%load_ext nb_black\\n\\\"\\\"\\\"\\nFunction to remove duplicates from array\\n\\nInput  : Array\\nOutput : Array with duplicates removed\\n\\\"\\\"\\\"\\n\\n\\ndef remove_duplicates(arr):\\n    # Get the length of the array\\n    n = len(arr)\\n    # Sort the array\\n    arr.sort()\\n    # Initialize the iterators\\n    i = 0\\n    j = 1\\n    # Loop to overwrite the duplicate\\n    while j < n:\\n        # Overwrite a[i] with a[j]\\n        if arr[i] != arr[j]:\\n            i += 1\\n            arr[i] = arr[j]\\n        j += 1\\n    # Return array without duplicates\\n    return arr[: i + 1]\\n\\n\\n# Test the function\\n\\narr = [1, 2, 4, 2, 2, 4, 2, 1, 3, 4, 6, 3, 2, 2, 5, 5, 6]\\nprint(\\\"Original array with duplicates :\\\", arr)\\nprint(\\\"Array with duplicates removed  :\\\", remove_duplicates(arr[:]))\";\n",
       "                var nbb_cells = Jupyter.notebook.get_cells();\n",
       "                for (var i = 0; i < nbb_cells.length; ++i) {\n",
       "                    if (nbb_cells[i].input_prompt_number == nbb_cell_id) {\n",
       "                        if (nbb_cells[i].get_text() == nbb_unformatted_code) {\n",
       "                             nbb_cells[i].set_text(nbb_formatted_code);\n",
       "                        }\n",
       "                        break;\n",
       "                    }\n",
       "                }\n",
       "            }, 500);\n",
       "            "
      ],
      "text/plain": [
       "<IPython.core.display.Javascript object>"
      ]
     },
     "metadata": {},
     "output_type": "display_data"
    }
   ],
   "source": [
    "\"\"\"\n",
    "Function to remove duplicates from array\n",
    "\n",
    "Input  : Array\n",
    "Output : Array with duplicates removed\n",
    "\"\"\"\n",
    "\n",
    "\n",
    "def remove_duplicates(arr):\n",
    "    # Get the length of the array\n",
    "    n = len(arr)\n",
    "    # Sort the array\n",
    "    arr.sort()\n",
    "    # Initialize the iterators\n",
    "    i = 0\n",
    "    j = 1\n",
    "    # Loop to overwrite the duplicate\n",
    "    while j < n:\n",
    "        # Overwrite a[i] with a[j]\n",
    "        if arr[i] != arr[j]:\n",
    "            i += 1\n",
    "            arr[i] = arr[j]\n",
    "        j += 1\n",
    "    # Return array without duplicates\n",
    "    return arr[: i + 1]\n",
    "\n",
    "\n",
    "# Test the function\n",
    "\n",
    "arr = [1, 2, 4, 2, 2, 4, 2, 1, 3, 4, 6, 3, 2, 2, 5, 5, 6]\n",
    "print(\"Original array with duplicates :\", arr)\n",
    "print(\"Array with duplicates removed  :\", remove_duplicates(arr[:]))"
   ]
  },
  {
   "cell_type": "markdown",
   "metadata": {
    "id": "thM0nECaQavn"
   },
   "source": [
    "<hr style=\\\"border:2px solid gray\\\"> </hr>"
   ]
  },
  {
   "cell_type": "markdown",
   "metadata": {
    "id": "IRbjG5WVQQM5"
   },
   "source": [
    "__2. Given an array A of $n$ integers in the range $[0, n^2 - 1]$, describe a simple method for sorting A in $O(n)$ time.__"
   ]
  },
  {
   "cell_type": "markdown",
   "metadata": {},
   "source": [
    "<hr style=\\\"border:1px solid gray\\\"> </hr>"
   ]
  },
  {
   "cell_type": "markdown",
   "metadata": {},
   "source": [
    "__Solution : $O(n)$ Time Complexity__\n",
    "\n",
    "Here since the range of the numbers are fixed between $0$ and $n^2-1$, we know that in a particular base the number of digits of the given numbers will be fixed. Number of digits fixed means that radix sort will be viable. The radix sort works as follows :\n",
    "\n",
    "- For the given number we represent it in a base, and do the following starting from the least significant digit to the most significant digit\n",
    "    - Let the digit to be used in the iteration be the $i^{th}$ digit of the number\n",
    "    - Set the key of all the numbers to be the $i^{th}$ digit of the number\n",
    "    - Sort using a __stable__ sort algorithm like the count sort, which sorts the numbers such that the order is preserved for equal numbers\n",
    "    - We then move to the next digit\n",
    "\n",
    "The time complexity of radix sort is of the order $O((n+b)\\log_{b}{k})$ where $b$ is the base used for the representation of the numbers and $k$ is the largest possible number. In this case, $k=n^2$ and we can use $b=n$, this gives us time complexity of $O(2n\\log_n{n^2}) = O(4n\\log_n{n}) = O(n)$, which is the time complexity required for our case."
   ]
  },
  {
   "cell_type": "code",
   "execution_count": 2,
   "metadata": {
    "id": "jQolkJTJPv7O"
   },
   "outputs": [
    {
     "name": "stdout",
     "output_type": "stream",
     "text": [
      "Original Array :  [24, 3, 8, 10, 19]\n",
      "Sorted array   :  [3, 8, 10, 19, 24]\n"
     ]
    },
    {
     "data": {
      "application/javascript": [
       "\n",
       "            setTimeout(function() {\n",
       "                var nbb_cell_id = 2;\n",
       "                var nbb_unformatted_code = \"\\\"\\\"\\\"\\nFunction to count sort a given array using the p'th digit as key\\n\\nInput  : Array of numbers\\nOutput : Array sorted with the p'th digit\\n\\\"\\\"\\\"\\n\\n\\ndef count_sort(arr, p, n):\\n    # Output array\\n    output = [0] * n\\n    # Counts array\\n    counts = [0] * n\\n\\n    # Increase counts for the p'th digit\\n    for i in arr:\\n        counts[(i // p) % n] += 1\\n\\n    # Feed forward the counts\\n    for i in range(1, n):\\n        counts[i] += counts[i - 1]\\n\\n    # Fill the output array based on the counts\\n    for i in arr[::-1]:\\n        output[counts[(i // p) % n] - 1] = i\\n        counts[(i // p) % n] -= 1\\n\\n    # Return the sorted array\\n    return output\\n\\n\\n\\\"\\\"\\\"\\nFunction to apply radix sort on array\\nInput  : Array of numbers\\nOutput : \\n\\\"\\\"\\\"\\n\\n\\ndef radix_sort(arr):\\n    n = len(arr)\\n\\n    \\\"\\\"\\\"\\n    Number of digits to be taken will be 2\\n    Since n^2-1 is the largest number, the number\\n    of digits will be 2 in base n, since n^2-1 is\\n    just [n-1,n-1] in base n\\n    \\\"\\\"\\\"\\n\\n    # Sort for first digit\\n    arr = count_sort(arr, 1, n)\\n\\n    # Sort for second digit\\n    arr = count_sort(arr, n, n)\\n\\n    # Return the sorted array\\n    return arr\\n\\n\\n# Testing the code\\n\\narr = [24, 3, 8, 10, 19]\\nprint(\\\"Original Array : \\\", arr)\\nprint(\\\"Sorted array   : \\\", radix_sort(arr[:]))\";\n",
       "                var nbb_formatted_code = \"\\\"\\\"\\\"\\nFunction to count sort a given array using the p'th digit as key\\n\\nInput  : Array of numbers\\nOutput : Array sorted with the p'th digit\\n\\\"\\\"\\\"\\n\\n\\ndef count_sort(arr, p, n):\\n    # Output array\\n    output = [0] * n\\n    # Counts array\\n    counts = [0] * n\\n\\n    # Increase counts for the p'th digit\\n    for i in arr:\\n        counts[(i // p) % n] += 1\\n\\n    # Feed forward the counts\\n    for i in range(1, n):\\n        counts[i] += counts[i - 1]\\n\\n    # Fill the output array based on the counts\\n    for i in arr[::-1]:\\n        output[counts[(i // p) % n] - 1] = i\\n        counts[(i // p) % n] -= 1\\n\\n    # Return the sorted array\\n    return output\\n\\n\\n\\\"\\\"\\\"\\nFunction to apply radix sort on array\\nInput  : Array of numbers\\nOutput : \\n\\\"\\\"\\\"\\n\\n\\ndef radix_sort(arr):\\n    n = len(arr)\\n\\n    \\\"\\\"\\\"\\n    Number of digits to be taken will be 2\\n    Since n^2-1 is the largest number, the number\\n    of digits will be 2 in base n, since n^2-1 is\\n    just [n-1,n-1] in base n\\n    \\\"\\\"\\\"\\n\\n    # Sort for first digit\\n    arr = count_sort(arr, 1, n)\\n\\n    # Sort for second digit\\n    arr = count_sort(arr, n, n)\\n\\n    # Return the sorted array\\n    return arr\\n\\n\\n# Testing the code\\n\\narr = [24, 3, 8, 10, 19]\\nprint(\\\"Original Array : \\\", arr)\\nprint(\\\"Sorted array   : \\\", radix_sort(arr[:]))\";\n",
       "                var nbb_cells = Jupyter.notebook.get_cells();\n",
       "                for (var i = 0; i < nbb_cells.length; ++i) {\n",
       "                    if (nbb_cells[i].input_prompt_number == nbb_cell_id) {\n",
       "                        if (nbb_cells[i].get_text() == nbb_unformatted_code) {\n",
       "                             nbb_cells[i].set_text(nbb_formatted_code);\n",
       "                        }\n",
       "                        break;\n",
       "                    }\n",
       "                }\n",
       "            }, 500);\n",
       "            "
      ],
      "text/plain": [
       "<IPython.core.display.Javascript object>"
      ]
     },
     "metadata": {},
     "output_type": "display_data"
    }
   ],
   "source": [
    "\"\"\"\n",
    "Function to count sort a given array using the p'th digit as key\n",
    "\n",
    "Input  : Array of numbers\n",
    "Output : Array sorted with the p'th digit\n",
    "\"\"\"\n",
    "\n",
    "\n",
    "def count_sort(arr, p, n):\n",
    "    # Output array\n",
    "    output = [0] * n\n",
    "    # Counts array\n",
    "    counts = [0] * n\n",
    "\n",
    "    # Increase counts for the p'th digit\n",
    "    for i in arr:\n",
    "        counts[(i // p) % n] += 1\n",
    "\n",
    "    # Feed forward the counts\n",
    "    for i in range(1, n):\n",
    "        counts[i] += counts[i - 1]\n",
    "\n",
    "    # Fill the output array based on the counts\n",
    "    for i in arr[::-1]:\n",
    "        output[counts[(i // p) % n] - 1] = i\n",
    "        counts[(i // p) % n] -= 1\n",
    "\n",
    "    # Return the sorted array\n",
    "    return output\n",
    "\n",
    "\n",
    "\"\"\"\n",
    "Function to apply radix sort on array\n",
    "Input  : Array of numbers\n",
    "Output : \n",
    "\"\"\"\n",
    "\n",
    "\n",
    "def radix_sort(arr):\n",
    "    n = len(arr)\n",
    "\n",
    "    \"\"\"\n",
    "    Number of digits to be taken will be 2\n",
    "    Since n^2-1 is the largest number, the number\n",
    "    of digits will be 2 in base n, since n^2-1 is\n",
    "    just [n-1,n-1] in base n\n",
    "    \"\"\"\n",
    "\n",
    "    # Sort for first digit\n",
    "    arr = count_sort(arr, 1, n)\n",
    "\n",
    "    # Sort for second digit\n",
    "    arr = count_sort(arr, n, n)\n",
    "\n",
    "    # Return the sorted array\n",
    "    return arr\n",
    "\n",
    "\n",
    "# Testing the code\n",
    "\n",
    "arr = [24, 3, 8, 10, 19]\n",
    "print(\"Original Array : \", arr)\n",
    "print(\"Sorted array   : \", radix_sort(arr[:]))"
   ]
  },
  {
   "cell_type": "markdown",
   "metadata": {},
   "source": [
    "<hr style=\\\"border:2px solid gray\\\"> </hr>"
   ]
  },
  {
   "cell_type": "markdown",
   "metadata": {
    "id": "BX_KSm5jZbgw"
   },
   "source": [
    "__3. Describe a non-recursive algorithm for enumerating all permutations of the numbers $\\{1, 2, \\dots,n\\}$ using an\n",
    "explicit stack.__"
   ]
  },
  {
   "cell_type": "markdown",
   "metadata": {},
   "source": [
    "<hr style=\\\"border:1px solid gray\\\"> </hr>"
   ]
  },
  {
   "cell_type": "markdown",
   "metadata": {},
   "source": [
    "__Solution : $O(n!)$ Time Complexity__\n",
    "\n",
    "We use the non-recursive Heap Algorithm for solving the given problem by simulating a stack: \n",
    "\n",
    "- We will initialize a array `state` of size $n$ with $0$ which is used to encode the for-loop counter of a recursive function call \n",
    "\n",
    "- We will create the array `arr` of numbers from $1$ to $n$ and print it as one of the permutations.\n",
    "\n",
    "- We will initialize a iterator `i`=$0$\n",
    "\n",
    "- Until `i` is less than $n$ we do the following :\n",
    "\n",
    "    - If `state[i]<i`, which means that we are inside a recursive call stack\n",
    "                    \n",
    "        - If i is odd, we swap `arr[i]` with `arr[state[i]]`\n",
    "                    \n",
    "        - If i is even, we swap `arr[i]` with `arr[0]`\n",
    "        \n",
    "        - We print `arr` as one of the elements\n",
    "                    \n",
    "        - We increase `state[i]` by 1, which indicates that we have done one iteration of swapping\n",
    "        \n",
    "        - We set `i` to 0, which simulates a recursive call of the function\n",
    "        \n",
    "    - If `state[i]>=i`, means that the stack is completed and we pass back the control to the previou stack\n",
    "    \n",
    "        - We set `state[i]` = 0, indicating the completion of the stack\n",
    "        \n",
    "        - We increment `i` by 1\n",
    "        \n",
    "The above algorithm is of the order $O(n!)$ time complexity since we reach all the permutations once, and there are $n!$ permutations"
   ]
  },
  {
   "cell_type": "code",
   "execution_count": 3,
   "metadata": {
    "id": "zOz0SwXIZfeW"
   },
   "outputs": [
    {
     "name": "stdout",
     "output_type": "stream",
     "text": [
      "[1, 2, 3, 4]\n",
      "[2, 1, 3, 4]\n",
      "[3, 1, 2, 4]\n",
      "[1, 3, 2, 4]\n",
      "[2, 3, 1, 4]\n",
      "[3, 2, 1, 4]\n",
      "[4, 2, 1, 3]\n",
      "[2, 4, 1, 3]\n",
      "[1, 4, 2, 3]\n",
      "[4, 1, 2, 3]\n",
      "[2, 1, 4, 3]\n",
      "[1, 2, 4, 3]\n",
      "[1, 3, 4, 2]\n",
      "[3, 1, 4, 2]\n",
      "[4, 1, 3, 2]\n",
      "[1, 4, 3, 2]\n",
      "[3, 4, 1, 2]\n",
      "[4, 3, 1, 2]\n",
      "[4, 3, 2, 1]\n",
      "[3, 4, 2, 1]\n",
      "[2, 4, 3, 1]\n",
      "[4, 2, 3, 1]\n",
      "[3, 2, 4, 1]\n",
      "[2, 3, 4, 1]\n"
     ]
    },
    {
     "data": {
      "application/javascript": [
       "\n",
       "            setTimeout(function() {\n",
       "                var nbb_cell_id = 3;\n",
       "                var nbb_unformatted_code = \"\\\"\\\"\\\"\\nFunction to print permutations of an array of numbers from 1 to n\\n\\nInput  : n - Number of elements in the array\\nOutput : Permutations of the array\\n\\\"\\\"\\\"\\n\\n\\ndef generate_permutations(n):\\n\\n    # Initialize the array for permutation\\n    arr = list(range(1, n + 1))\\n\\n    # Initialize the state variable\\n    state = [0] * n\\n\\n    # Print the first permutation of the array\\n    print(arr)\\n\\n    # Initialize the pointer\\n    i = 0\\n\\n    # Loop which simulates the recursive algorithm\\n    while i < n:\\n        # Inside a recursive call\\n        if state[i] < i:\\n            # Swap elements based on i\\n            if i & 1:\\n                arr[state[i]], arr[i] = arr[i], arr[state[i]]\\n            else:\\n                arr[0], arr[i] = arr[i], arr[0]\\n\\n            # Print the permutation\\n            print(arr)\\n\\n            # Simulate calling function recursively\\n            state[i] += 1\\n            i = 0\\n        # Completed a recursize vall\\n        else:\\n            state[i] = 0\\n            i += 1\\n\\n\\n# Check the function\\n\\ngenerate_permutations(4)\";\n",
       "                var nbb_formatted_code = \"\\\"\\\"\\\"\\nFunction to print permutations of an array of numbers from 1 to n\\n\\nInput  : n - Number of elements in the array\\nOutput : Permutations of the array\\n\\\"\\\"\\\"\\n\\n\\ndef generate_permutations(n):\\n\\n    # Initialize the array for permutation\\n    arr = list(range(1, n + 1))\\n\\n    # Initialize the state variable\\n    state = [0] * n\\n\\n    # Print the first permutation of the array\\n    print(arr)\\n\\n    # Initialize the pointer\\n    i = 0\\n\\n    # Loop which simulates the recursive algorithm\\n    while i < n:\\n        # Inside a recursive call\\n        if state[i] < i:\\n            # Swap elements based on i\\n            if i & 1:\\n                arr[state[i]], arr[i] = arr[i], arr[state[i]]\\n            else:\\n                arr[0], arr[i] = arr[i], arr[0]\\n\\n            # Print the permutation\\n            print(arr)\\n\\n            # Simulate calling function recursively\\n            state[i] += 1\\n            i = 0\\n        # Completed a recursize vall\\n        else:\\n            state[i] = 0\\n            i += 1\\n\\n\\n# Check the function\\n\\ngenerate_permutations(4)\";\n",
       "                var nbb_cells = Jupyter.notebook.get_cells();\n",
       "                for (var i = 0; i < nbb_cells.length; ++i) {\n",
       "                    if (nbb_cells[i].input_prompt_number == nbb_cell_id) {\n",
       "                        if (nbb_cells[i].get_text() == nbb_unformatted_code) {\n",
       "                             nbb_cells[i].set_text(nbb_formatted_code);\n",
       "                        }\n",
       "                        break;\n",
       "                    }\n",
       "                }\n",
       "            }, 500);\n",
       "            "
      ],
      "text/plain": [
       "<IPython.core.display.Javascript object>"
      ]
     },
     "metadata": {},
     "output_type": "display_data"
    }
   ],
   "source": [
    "\"\"\"\n",
    "Function to print permutations of an array of numbers from 1 to n\n",
    "\n",
    "Input  : n - Number of elements in the array\n",
    "Output : Permutations of the array\n",
    "\"\"\"\n",
    "\n",
    "\n",
    "def generate_permutations(n):\n",
    "\n",
    "    # Initialize the array for permutation\n",
    "    arr = list(range(1, n + 1))\n",
    "\n",
    "    # Initialize the state variable\n",
    "    state = [0] * n\n",
    "\n",
    "    # Print the first permutation of the array\n",
    "    print(arr)\n",
    "\n",
    "    # Initialize the pointer\n",
    "    i = 0\n",
    "\n",
    "    # Loop which simulates the recursive algorithm\n",
    "    while i < n:\n",
    "        # Inside a recursive call\n",
    "        if state[i] < i:\n",
    "            # Swap elements based on i\n",
    "            if i & 1:\n",
    "                arr[state[i]], arr[i] = arr[i], arr[state[i]]\n",
    "            else:\n",
    "                arr[0], arr[i] = arr[i], arr[0]\n",
    "\n",
    "            # Print the permutation\n",
    "            print(arr)\n",
    "\n",
    "            # Simulate calling function recursively\n",
    "            state[i] += 1\n",
    "            i = 0\n",
    "        # Completed a recursize vall\n",
    "        else:\n",
    "            state[i] = 0\n",
    "            i += 1\n",
    "\n",
    "\n",
    "# Check the function\n",
    "\n",
    "generate_permutations(4)"
   ]
  },
  {
   "cell_type": "markdown",
   "metadata": {},
   "source": [
    "<hr style=\\\"border:2px solid gray\\\"> </hr>"
   ]
  },
  {
   "attachments": {
    "image.png": {
     "image/png": "[encoded data removed]"
    }
   },
   "cell_type": "markdown",
   "metadata": {},
   "source": [
    "__4. Suppose Dijkstra’s algorithm is run on the following graph, starting at node A.__\n",
    "\n",
    "![image.png](attachment:image.png)\n",
    "\n",
    "__(a) Draw a table showing the intermediate distance values all the nodes at each iteration of the algorithm.__\n",
    "\n",
    "__(b) Show the final shortest-path tree.__"
   ]
  },
  {
   "cell_type": "markdown",
   "metadata": {},
   "source": [
    "<hr style=\\\"border:1px solid gray\\\"> </hr>"
   ]
  },
  {
   "attachments": {
    "tree-3.png": {
     "image/png": "[encoded data removed]"
    }
   },
   "cell_type": "markdown",
   "metadata": {},
   "source": [
    "(a) The Dijktra's algorithm with intermediate distance values is as follows (represented as intermediate distance, parent node): \n",
    "\n",
    "|From A → | B | C | D | E | F | G | H |\n",
    "|---  |---|---|---|---|---|---|---|\n",
    "| __A__ | <font color='green'>1,A</font>  | ∞,-  | ∞,-  | 4,A  | 8,A  | ∞,-  | ∞,-  |\n",
    "| __B__ | <font color='red'>1,A</font>  | <font color='green'>3,B</font>  | ∞,-  | 4,A  | 7,B  | 7,B  | ∞,-  |\n",
    "| __C__ | <font color='red'>1,A</font>  | <font color='red'>3,B</font>  | <font color='green'>4,C</font>  | 4,A  | 7,B  | 5,C  | ∞,-  |\n",
    "| __D__ | <font color='red'>1,A</font>  | <font color='red'>3,B</font>  | <font color='red'>4,C</font>  | <font color='green'>4,A</font>  | 7,B  | 5,C  | 8,D  |\n",
    "| __E__ | <font color='red'>1,A</font>  | <font color='red'>3,B</font>  | <font color='red'>4,C</font>  | <font color='red'>4,A</font>  | 7,B  | <font color='green'>5,C</font>  | 8,D  |\n",
    "| __G__ | <font color='red'>1,A</font>  | <font color='red'>3,B</font>  | <font color='red'>4,C</font>  | <font color='red'>4,A</font>  | <font color='green'>6,G</font>  | <font color='red'>5,C</font>  | 6,G  |\n",
    "| __F__ | <font color='red'>1,A</font>  | <font color='red'>3,B</font>  | <font color='red'>4,C</font>  | <font color='red'>4,A</font>  | <font color='red'>6,G</font>  | <font color='red'>5,C</font>  | <font color='green'>6,G</font>  |\n",
    "| __H__ | <font color='red'>1,A</font>  | <font color='red'>3,B</font>  | <font color='red'>4,C</font>  | <font color='red'>4,A</font>  | <font color='red'>6,G</font>  | <font color='red'>5,C</font>  | <font color='red'>6,G</font>  |\n",
    "\n",
    "\n",
    "(b) The final shortest-path tree starting from A is given as is :\n",
    "\n",
    "![tree-3.png](attachment:tree-3.png)"
   ]
  },
  {
   "cell_type": "markdown",
   "metadata": {},
   "source": [
    "<hr style=\\\"border:2px solid gray\\\"> </hr>"
   ]
  },
  {
   "cell_type": "markdown",
   "metadata": {
    "id": "WQ25txIMoLit"
   },
   "source": [
    "__5. Describe an efficient greedy algorithm in python for making change for a specified value using a minimum\n",
    "number of coins, assuming there are four denominations of coins (called quarters, dimes, nickels, and\n",
    "pennies), with values 25, 10, 5, and 1, respectively.__"
   ]
  },
  {
   "cell_type": "markdown",
   "metadata": {},
   "source": [
    "<hr style=\\\"border:1px solid gray\\\"> </hr>"
   ]
  },
  {
   "cell_type": "markdown",
   "metadata": {},
   "source": [
    "__Solution : $O(1)$ Time Complexity*__\n",
    "\n",
    "The greedy solution hint tells us that to minimize the number of coins involved, we need to utilize the maximum value coins as much as possible. The algorithm is as follows :\n",
    "\n",
    "- Start from the highest denomination\n",
    "- If the denomination is less than the change required, we subtract the highest amount we can make using the denomination which is less than the change from the change. The result now becomes the new change.\n",
    "- We move to the next largest denomination and repeat for all the denominations.\n",
    "\n",
    "Since the loop runs for how much denominations are present, the time complexity is $O(1)$, since the number of denominations are fixed in this case.\n",
    "\n",
    "\\* Although in this case the solution is of constant time complexity, if the denominations of the coins is also given as input, then the time complexity will be of the order $O(n)$ where $n$ is the number of denominations involved."
   ]
  },
  {
   "cell_type": "code",
   "execution_count": 4,
   "metadata": {
    "id": "Oyr1CKMoe-eJ",
    "scrolled": false
   },
   "outputs": [
    {
     "name": "stdout",
     "output_type": "stream",
     "text": [
      "\n",
      "Change : 25\n",
      "Number of coins required : 1\n",
      "25 - 1 coins\n",
      "10 - 0 coins\n",
      "5 - 0 coins\n",
      "1 - 0 coins\n",
      "\n",
      "Change : 100\n",
      "Number of coins required : 4\n",
      "25 - 4 coins\n",
      "10 - 0 coins\n",
      "5 - 0 coins\n",
      "1 - 0 coins\n",
      "\n",
      "Change : 1\n",
      "Number of coins required : 1\n",
      "25 - 0 coins\n",
      "10 - 0 coins\n",
      "5 - 0 coins\n",
      "1 - 1 coins\n",
      "\n",
      "Change : 88\n",
      "Number of coins required : 7\n",
      "25 - 3 coins\n",
      "10 - 1 coins\n",
      "5 - 0 coins\n",
      "1 - 3 coins\n"
     ]
    },
    {
     "data": {
      "application/javascript": [
       "\n",
       "            setTimeout(function() {\n",
       "                var nbb_cell_id = 4;\n",
       "                var nbb_unformatted_code = \"'''\\nFunction to calculate change for 25,10,5,1 denomination\\n\\nInput  : Change required\\nOutput : Number of coins for each denomination\\n'''\\ndef change(val):\\n    print(\\\"\\\\nChange :\\\",val)\\n    changes = [25,10,5,1]\\n    res = {}\\n    i=0\\n    total_coins = 0\\n    for i in range(4):\\n        res[changes[i]] = val//changes[i]\\n        total_coins+=res[changes[i]]\\n        val = val - changes[i]*(val//changes[i])\\n        i-=1\\n    print('Number of coins required :',total_coins)\\n    for i in res:\\n        print(i,\\\"-\\\",res[i],\\\"coins\\\")\\n        \\n# Testing the code\\n\\nchange(25)\\nchange(100)\\nchange(1)\\nchange(88)\";\n",
       "                var nbb_formatted_code = \"\\\"\\\"\\\"\\nFunction to calculate change for 25,10,5,1 denomination\\n\\nInput  : Change required\\nOutput : Number of coins for each denomination\\n\\\"\\\"\\\"\\n\\n\\ndef change(val):\\n    print(\\\"\\\\nChange :\\\", val)\\n    changes = [25, 10, 5, 1]\\n    res = {}\\n    i = 0\\n    total_coins = 0\\n    for i in range(4):\\n        res[changes[i]] = val // changes[i]\\n        total_coins += res[changes[i]]\\n        val = val - changes[i] * (val // changes[i])\\n        i -= 1\\n    print(\\\"Number of coins required :\\\", total_coins)\\n    for i in res:\\n        print(i, \\\"-\\\", res[i], \\\"coins\\\")\\n\\n\\n# Testing the code\\n\\nchange(25)\\nchange(100)\\nchange(1)\\nchange(88)\";\n",
       "                var nbb_cells = Jupyter.notebook.get_cells();\n",
       "                for (var i = 0; i < nbb_cells.length; ++i) {\n",
       "                    if (nbb_cells[i].input_prompt_number == nbb_cell_id) {\n",
       "                        if (nbb_cells[i].get_text() == nbb_unformatted_code) {\n",
       "                             nbb_cells[i].set_text(nbb_formatted_code);\n",
       "                        }\n",
       "                        break;\n",
       "                    }\n",
       "                }\n",
       "            }, 500);\n",
       "            "
      ],
      "text/plain": [
       "<IPython.core.display.Javascript object>"
      ]
     },
     "metadata": {},
     "output_type": "display_data"
    }
   ],
   "source": [
    "'''\n",
    "Function to calculate change for 25,10,5,1 denomination\n",
    "\n",
    "Input  : Change required\n",
    "Output : Number of coins for each denomination\n",
    "'''\n",
    "def change(val):\n",
    "    print(\"\\nChange :\",val)\n",
    "    changes = [25,10,5,1]\n",
    "    res = {}\n",
    "    i=0\n",
    "    total_coins = 0\n",
    "    for i in range(4):\n",
    "        res[changes[i]] = val//changes[i]\n",
    "        total_coins+=res[changes[i]]\n",
    "        val = val - changes[i]*(val//changes[i])\n",
    "        i-=1\n",
    "    print('Number of coins required :',total_coins)\n",
    "    for i in res:\n",
    "        print(i,\"-\",res[i],\"coins\")\n",
    "        \n",
    "# Testing the code\n",
    "\n",
    "change(25)\n",
    "change(100)\n",
    "change(1)\n",
    "change(88)\n"
   ]
  },
  {
   "cell_type": "markdown",
   "metadata": {},
   "source": [
    "<hr style=\\\"border:2px solid gray\\\"> </hr>"
   ]
  },
  {
   "cell_type": "markdown",
   "metadata": {},
   "source": [
    "__6. Design an efficient algorithm in python for the matrix chain multiplication problem that outputs a fully\n",
    "parenthesized expression for how to multiply the matrices in the chain using the minimum number of\n",
    "operations.__"
   ]
  },
  {
   "cell_type": "markdown",
   "metadata": {},
   "source": [
    "<hr style=\\\"border:1px solid gray\\\"> </hr>"
   ]
  },
  {
   "cell_type": "markdown",
   "metadata": {},
   "source": [
    "__Solution : $O(n^3)$ Time Complexity__\n",
    "\n",
    "We can try to fit parantheses over all possible combinations which will be tedious. Instead we can try to approach this in a dynamic programming way. \n",
    "\n",
    "Let `shapes` denote the array of shapes of the matrix and `dp[i][j]` denote the cost of computing the product of matrices from position `i` to `j`. To compute the best way to calculate the product from `i` to `k`, we try to first compute the product from `i` to `k` and `k+1` to `j`, and then find the product between the results. The cost of computing product `i` to `k` is `dp[i][k]` and the cost of computing product from `k+1` to `j` is `dp[k+1][j]`. The cost of computing the resulting product will be `shapes[i-1]*shapes[k]*shapes[j]`. Thus, the dynamic programming subproblem is given as :\n",
    "\n",
    "$$\n",
    "dp[i][j] = \\min_{i\\leq k < j} dp[i][k] + dp[k+1][j] + shapes[i-1]*shapes[k]*shapes[j]\n",
    "$$\n",
    "\n",
    "Thus, we can solve the problem using dynamic programming as follows :\n",
    "\n",
    "- We have array `shapes` of size `n` where `shapes[i],shapes[i+1]` represents the size of the i'th matrix \n",
    "\n",
    "- Initialize an array `dp[n][n]` with infinity\n",
    "\n",
    "- Initialize the diagonal elements as 0, this means that the cost of multiplying only one matrix is zero\n",
    "\n",
    "- Initialize an iterator `l` which indicates what is the length of multiplication we are calculating\n",
    "\n",
    "- While `l` goes from 2 to n\n",
    "\n",
    "    - Initialize iterator `i` which represents the starting point from which we are going to check the multiplication cost\n",
    "    \n",
    "    - While `i` runs from 1 till n-l+1\n",
    "        \n",
    "        - Initialize `j` as i+l-1 which indicates the ending point till which we are going to check the multiplication cost\n",
    "        \n",
    "        - Initialize iterator `k` which is the point where we split the expression by paranthesization\n",
    "            \n",
    "            - While `k` runs from `i` to `j`\n",
    "                \n",
    "                - We calculate the cost of multiplication as `dp[i][k] + dp[k+1][j] + shapes[i-1]\\*shapes[k]\\*shapes[j]`\n",
    "                \n",
    "                - If the cost is less than `dp[i][j]`, we set `dp[i][j]` as the above costs\n",
    "                \n",
    "- The resulting lowest operations matrix multiplication will be present in `dp[1][n-1]`"
   ]
  },
  {
   "cell_type": "code",
   "execution_count": 1,
   "metadata": {
    "scrolled": true
   },
   "outputs": [
    {
     "name": "stdout",
     "output_type": "stream",
     "text": [
      "((A₄₀ₓ₂₀(B₂₀ₓ₃₀C₃₀ₓ₁₀))D₁₀ₓ₃₀) - 26000 operations\n"
     ]
    }
   ],
   "source": [
    "\"\"\"\n",
    "Code to calculate the minimum number of operation matrix multiplication chain\n",
    "\n",
    "Input  : Shapes of matrix to multiply\n",
    "Output : Paranthesized expression and number of operations\n",
    "\"\"\"\n",
    "\n",
    "\n",
    "def matrix_chain_order(shapes):\n",
    "\n",
    "    # List to store matrix names\n",
    "    mat = []\n",
    "\n",
    "    # Number of matrices\n",
    "    n = len(shapes) - 1\n",
    "\n",
    "    # Create the name of matrices with given shapes\n",
    "    for i in range(n):\n",
    "        mat.append(chr(ord(\"A\") + i) + str(shapes[i]) + \"x\" + str(shapes[i + 1]))\n",
    "\n",
    "    # Initialize the dp matrix, defining for size n + 1 for easier coding\n",
    "    dp = [[float(\"inf\")] * (n + 1) for _ in range(n + 1)]\n",
    "\n",
    "    # Initialize the dp matrix for storing the paranthesized expressions\n",
    "    dp_mat = [[\"\"] * (n + 1) for _ in range(n + 1)]\n",
    "\n",
    "    # Initialize the diagonals as zeros\n",
    "    for i in range(1, n + 1):\n",
    "        dp[i][i] = 0\n",
    "        dp_mat[i][i] = mat[i - 1]\n",
    "\n",
    "    # Loop to find the minimum operation paranthesization\n",
    "    for l in range(2, n + 1):\n",
    "        for i in range(1, n - l + 2):\n",
    "            j = i + l - 1\n",
    "            for k in range(i, j):\n",
    "                # Calculate the number of operations using the i-k and k-j matrices\n",
    "                q = dp[i][k] + dp[k + 1][j] + shapes[i - 1] * shapes[k] * shapes[j]\n",
    "\n",
    "                # Find the paranthezised expression\n",
    "                s = \"(\" + dp_mat[i][k] + dp_mat[k + 1][j] + \")\"\n",
    "\n",
    "                # Check if the current value is the minimum\n",
    "                if q < dp[i][j]:\n",
    "                    dp[i][j] = q\n",
    "                    dp_mat[i][j] = s\n",
    "\n",
    "    # Return the answer\n",
    "    return (dp[1][n], dp_mat[1][n])\n",
    "\n",
    "\n",
    "# Testing the code\n",
    "\n",
    "SUB = str.maketrans(\"x0123456789\", \"ₓ₀₁₂₃₄₅₆₇₈₉\")\n",
    "operations_len, paranthezised_expr = matrix_chain_order([40, 20, 30, 10, 30])\n",
    "print(paranthezised_expr.translate(SUB), \"-\", operations_len, \"operations\")"
   ]
  },
  {
   "cell_type": "markdown",
   "metadata": {},
   "source": [
    "<hr style=\\\"border:2px solid gray\\\"> </hr>"
   ]
  },
  {
   "cell_type": "markdown",
   "metadata": {},
   "source": [
    "__7. Algorithms for “Transport Protocols”__"
   ]
  },
  {
   "cell_type": "markdown",
   "metadata": {},
   "source": [
    "<hr style=\\\"border:1px solid gray\\\"> </hr>"
   ]
  },
  {
   "cell_type": "markdown",
   "metadata": {},
   "source": [
    "__(i) CUBIC TCP vs Compound TCP__"
   ]
  },
  {
   "cell_type": "markdown",
   "metadata": {},
   "source": [
    "Congestion control algorithms for TCP are used to set the rate of transmission of information packets over the network. These algorithms try to reduce congestion, i.e. situations where network receives more packets than it can handle which leads to loss of some packets, while trying to use the available resources of the network efficiently. These algorithms controls the rate of transmission of packets by setting a __congestion window__($cwnd$), which is the number of packets to be sent at a time. Another important parameter in congestion control is the round trip time ($RTT$), which is the time interval between sending a packet and receiving acknowledgement of receiving a packet. It is used both as an measure of congestion and also usually the time interval used to update the congestion window. \n",
    "\n",
    "__CUBIC TCP ([Reference](https://web.archive.org/web/20150726051512/http://www4.ncsu.edu/~rhee/export/bitcp/cubic-paper.pdf))__\n",
    "\n",
    "CUBIC TCP algorithm is a loss-based congestion control algorithm. The algorithm is given as follows : \n",
    "\n",
    "__Variables :__ \n",
    "\n",
    "- $\\beta$  : Multiplicative decrease factor (set to 0.7)\n",
    "- $W_{max}$   : Window size just before the last reduction (initially set via guess)\n",
    "- $T$      : Time elapsed since the last window reduction\n",
    "- $C$      : A scaling constant (set to 0.4)\n",
    "- $cwnd$   : The congestion window at the current time\n",
    "\n",
    "$$\n",
    "W_{cubic}(T) = C(T-K)^3 + W_{max}\\\\\n",
    "K = \\left(\\frac{W_{max}(1-\\beta)}{C}\\right)^{\\frac{1}{3}}\n",
    "$$\n",
    "\n",
    "- Before updating $cwmd$ we have to check if we are in TCP Friendly region. In this, we check if we can acheive same throughput as Standard $TCP$, whose window update adjusted to CUBIC given as $W_{tcp}(T) = W_{max}\\beta + 3\\frac{1-\\beta}{1+\\beta}\\frac{t}{RTT}$. If $W_{tcp}$ is larger than $W_{cubic}$, we are in TCP friendly region and thus $cwmd$ is updated to $W_{tcp}$, else we update $cwmd$ to be $W_{cubic}$.\n",
    "\n",
    "- On encountering a loss, we update $cwmd$ as $\\beta \\times cwmd$. If the value of $W_{max}$ is less than $cwmd$ during loss, then it remains unchanged, else $W_{max}$ is updated as $\\beta \\times W_{max}$\n",
    "\n",
    "__Compound TCP ([Reference](https://www.microsoft.com/en-us/research/wp-content/uploads/2016/02/tr-2005-86.pdf))__\n",
    "\n",
    "(Note : Here $cwmd$ is different from what it meant in the previous section, $win$ here means what $cwmd$ meant in the previous section)\n",
    "\n",
    "Compound TCP algorith is a hybrid algorithm which uses both delay-based and loss-based information to adjust $win$ (the congestion window in this case). The algorithm sets $win$ as $win = \\min(cwmd+dwmd,awmd)$, where $cwmd$ is the loss-based component, $dwmd$ is the delay-based component and $awmd$ is the advertised window from the receiver.\n",
    "\n",
    "- The loss-based component $cwmd$ is updated similar to normal TCP by Additive Increase Multiplicative Decrease (AIMD) as follows :\n",
    "\n",
    "$$cwmd(t+1) = \\begin{cases} cwmd(t)+\\frac{1}{cwmd(t)+dwmd(t)} & \\text{No loss occurs}\\\\0.5\\times cwmd(t) & \\text{Loss occurs} \\end{cases}$$\n",
    "\n",
    "- The delay-based component $dwmd$ is updated as by the following rule :\n",
    "    - We set two parameters $baseRTT$, which is the minimal $RTT$ observed after the connection is started and $sRTT$, which is current $RTT$ obseved, which could be greater due to queueing.\n",
    "    - We calculate $Expected\\_Throughput = \\frac{win}{baseRTT}$ and $Actual\\_Throughput = \\frac{w}{sRTT}$ and $diff = (Expected\\_Throughput - Actual\\_Throughput)\\times baseRTT$ which denotes the data which has been backlogged in the queue. Thus if the $diff$ reaches a threshold $\\gamma$, we conclude that the network has reached congestion and updated $dwmd$ as follows :\n",
    "    \n",
    "$$\n",
    "    dwmd(t+1) = \\begin{cases} \n",
    "                    dwmd(t)+\\max(0,\\alpha\\times win(t)^k - 1) & diff<\\gamma\\\\ \n",
    "                    \\max(0,dwmd(t)-\\zeta\\times diff) & diff\\geq\\gamma\\\\\n",
    "                    \\max(0,win(t)\\times(1-\\beta) - {cwmd}/{2}) & \\text{Loss occurs} \n",
    "                \\end{cases}\n",
    "$$\n",
    "\n",
    "- The delay based component helps in loss reduction by predicting an possible congestion and reducing the window appropriately.\n",
    "\n",
    "\n",
    "__Similarities :__\n",
    "\n",
    "- Both algorithm use packet losses information for adjusting the congestion window size.\n",
    "- Both algorithms have non-linear update of congestion window, CUBIC via its cubic function update and Compound via its delay-based algorithm.\n",
    "- Both algorithms try to maximize the network efficiency, CUBIC via agressive increase of window size when far away from $W_{max}$ and Compund via reducing packet losses through prediction of packet losses in delay-based window.\n",
    "\n",
    "__Similarities :__\n",
    "\n",
    "- Compound has a delay based component unlike CUBIC which solely relies on packet loss for update\n",
    "- Packet loss in Compound is much lower than CUBIC due to the aforementioned predictive reduction of packet losses via delay based window.\n",
    "- CUBIC is RTT independent, whereas Compound is RTT dependent, due to its delay based component"
   ]
  },
  {
   "cell_type": "markdown",
   "metadata": {},
   "source": [
    "<hr style=\\\"border:1px solid gray\\\"> </hr>"
   ]
  },
  {
   "cell_type": "markdown",
   "metadata": {},
   "source": [
    "__(ii) TCP Fairness__\n",
    "\n",
    "The fairness of a TCP control protocol is defined by how the protocol provides equal bandwidth to competing flows of packets. If $N$ flows are competing for the same bottleneck bandwidth, then each should receive $1/N$ capacity of the bandwidth for the flow to be fair.\n",
    "\n",
    "For an large network like internets, there are multiple congestion algorithms running around everywhere, thus to ensure overall fairness, we should check for fairness on three dimensions : \n",
    "\n",
    "- Intra Protocol Fairness : Fairness among flows with the same congestion algorithms\n",
    "- Inter Protocol Fairness : Fairness among flows with different congestion algorithms\n",
    "- RTT Fairness   : Fairness among flows with different RTT values.\n",
    "\n",
    "We need metrics to measure the fairness of the algorithm. Let there be $n$ competing flows with each flow $i$ receiving $T_i$ data. One such metric which can be used is Jain Index. It is given as follows : \n",
    "\n",
    "- __Jain Index :__ Let $O_i$ be max-min optimal bit-rate, then $J(x_1,x_2,x_3,\\dots,x_n) = \\dfrac{\\left(\\sum_{i=1}^{n}x_i\\right)^2}{n\\sum_{i=1}^{n} x_i^2}$  where $x_i = T_i/O_i$. $J \\in [\\frac{1}{n},1]$. This metric is used to compare different configurations regardless of bottleneck bandwidth. To get the fairness metrics we can run simulations for the algorithm in a testbed and calculate fairness from this result.\n",
    "\n",
    "CUBIC has good RTT fairness due to it being independent of RTT, while Compound does not have good RTT fairness due to its dependence on RTT. CUBIC and Compound both have good intra fairness due to CUBIC rapid changes to $W_{max}$ for different flows and Compound enables it via lowering its delay-based window on high queueing. "
   ]
  },
  {
   "cell_type": "markdown",
   "metadata": {},
   "source": [
    "<hr style=\\\"border:2px solid gray\\\"> </hr>"
   ]
  },
  {
   "cell_type": "markdown",
   "metadata": {},
   "source": [
    "__8. Algorithms for “Transport Protocols”__"
   ]
  },
  {
   "cell_type": "markdown",
   "metadata": {},
   "source": [
    "<hr style=\\\"border:1px solid gray\\\"> </hr>"
   ]
  },
  {
   "cell_type": "markdown",
   "metadata": {},
   "source": [
    "__PageRank :__\n",
    "\n",
    "PageRank is a link analysis algorithm which analyses hyperlinked set of documents and assigns numerical weightage to the documents which inicates the documents relative importance with respect to the set. The metric used for assigning the weightage  to a particular document are the number and the importance of the pages which are linked to it and likeliness of a user to visit the page.\n",
    "\n",
    "The PageRank algorithm tries to define the metric as the probability distribution of the likelihood of a random surfer to select a given page. Let there be a hyperlink of $N$ documents. Let us define $PR(u)$ as the Page Rank value of a page $u$, and let $B_u$ be set of pages linking to $u$. Let $L(u)$ be the number of outbound links from $u$. There is also a damping factor $d$, which denotes the probability that the user will continue surfing through the webpages. Thus, $1-d$ represents the probability that the user stop surfing at the given page. The PageRank formula is recursively given as :\n",
    "\n",
    "$$\n",
    "PR(u) = \\frac{1-d}{N} + d\\sum_{v\\in B_u} \\frac{PR(v)}{L(v)}\n",
    "$$\n",
    "\n",
    "This above equation is recursively defined, thus we need an iterative solution to reach the final answer. \n",
    "\n",
    "Let $\\mathbf{R} = \\begin{bmatrix} PR(p_1) & PR(p_2) & PR(p_3) &\\dots&PR(p_N)  \\end{bmatrix}^T$ be the final PageRanks of the hyperlink, then $\\mathbf{R}$ is the solution of the following equation : \n",
    "\n",
    "$$\n",
    "    \\mathbf{R} = \\begin{bmatrix} \\frac{1-d}{N}\\\\\\frac{1-d}{N}\\\\ \\vdots\\\\ \\frac{1-d}{N}\\\\ \\frac{1-d}{N} \\end{bmatrix} + d\\begin{bmatrix} \n",
    "    \\ell(p_1,p_1)& \\ell(p_1,p_2)& \\cdots& \\ell(p_1,p_{N-1})&\\ell(p_1,p_N) \\\\\n",
    "    \\ell(p_2,p_1)& \\ddots& \\cdots& \\cdots&\\ell(p_2,p_N) \\\\\n",
    "    \\vdots& \\vdots& \\ell(p_i,p_j) & \\vdots&\\vdots \\\\\n",
    "    \\ell(p_{N-1},p_1)& \\cdots& \\cdots& \\ddots&\\ell(p_{N-1},p_N) \\\\\n",
    "    \\ell(p_N,p_1)& \\ell(p_N,p_2)& \\cdots& \\ell(p_N,p_{N-1})&\\ell(p_N,p_N)\n",
    "  \\end{bmatrix}\\mathbf{R}\n",
    "$$\n",
    "\n",
    "Here $\\ell(p_i,p_j)$ is the ratio between number of links outbound from page $j$ to $i$ to the total number of outbound links from $j$. $\\ell$ is defined such that $\\sum_{i=1}^{N}\\ell(p_i,p_j) = $ "
   ]
  },
  {
   "cell_type": "markdown",
   "metadata": {},
   "source": [
    "__References :__ \n",
    "\n",
    "- [CUBIC: A New TCP-Friendly High-Speed TCP Variant ](https://web.archive.org/web/20150726051512/http://www4.ncsu.edu/~rhee/export/bitcp/cubic-paper.pdf)\n",
    "- [A Compound TCP Approach for High-speed and\n",
    "Long Distance Networks](https://www.microsoft.com/en-us/research/wp-content/uploads/2016/02/tr-2005-86.pdf)\n",
    "- [Comparative Study of TCP Protocols: A Survey](https://www.ijcst.org/Volume8/Issue1/p4_8_1.pdf)\n",
    "- [The Anatomy of a Large-Scale Hypertextual Web Search Engine](http://infolab.stanford.edu/~backrub/google.html)"
   ]
  }
 ],
 "metadata": {
  "colab": {
   "collapsed_sections": [],
   "name": "Untitled6.ipynb",
   "provenance": []
  },
  "kernelspec": {
   "display_name": "Python 3 (ipykernel)",
   "language": "python",
   "name": "python3"
  },
  "language_info": {
   "codemirror_mode": {
    "name": "ipython",
    "version": 3
   },
   "file_extension": ".py",
   "mimetype": "text/x-python",
   "name": "python",
   "nbconvert_exporter": "python",
   "pygments_lexer": "ipython3",
   "version": "3.9.7"
  }
 },
 "nbformat": 4,
 "nbformat_minor": 1
}
