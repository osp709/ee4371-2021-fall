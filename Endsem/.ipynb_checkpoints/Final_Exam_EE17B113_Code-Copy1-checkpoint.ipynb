{
 "cells": [
  {
   "cell_type": "markdown",
   "metadata": {
    "id": "BwWrDUyUOvuq"
   },
   "source": [
    "<h1><center>EE4371 - Final Exam</center></h1>\n",
    "<h3><center>Om Shri Prasath, EE17B113</center></h3>\n",
    "<hr style=\\\"border:2px solid gray\\\"> </hr>"
   ]
  },
  {
   "cell_type": "markdown",
   "metadata": {
    "id": "ABM4S_o_O43h"
   },
   "source": [
    "__1. You are given an array of n elements, and you notice that some of the elements are duplicates; that is,\n",
    "they appear more than once in array. Show how to remove all duplicates from the array in time $O(n\\log{n})$__\n",
    "\n",
    "Given an collection of n elements, we need to remove duplicates from the collection. Assuming we do not need to keep the order, the\n",
    "operation can be done as follows :\n",
    "1. We sort the array, using either quick sort or merge sort to sort the array\n",
    "2. Once the array is sorted, we do the following :\n",
    "\n",
    "    A. If the length of the array is 1, we just return it. Else:\n",
    "    \n",
    "    B. We keep two iterators i and j which are initialized to 0 and 1\n",
    "    \n",
    "    C. If element at position i is not equal to j, we increment i and write the element present at i into j and then increment j too\n",
    "    \n",
    "    D. Otherwise we just increment j\n",
    "    \n",
    "    E. We continue the loop until j reaches the end of the array\n",
    "    \n",
    "    F. We return the elements present from 0:i+1 as the non-duplicates array output."
   ]
  },
  {
   "cell_type": "markdown",
   "metadata": {},
   "source": [
    "<hr style=\\\"border:1px solid gray\\\"> </hr>"
   ]
  },
  {
   "cell_type": "code",
   "execution_count": 1,
   "metadata": {
    "id": "mgQ5THawPJ5Y"
   },
   "outputs": [],
   "source": [
    "def remove_duplicates(arr):\n",
    "    n = len(arr)\n",
    "    arr.sort()\n",
    "    i = 0\n",
    "    j = 1\n",
    "    while j < n:\n",
    "        if arr[i] != arr[j]:\n",
    "            i += 1\n",
    "            arr[i] = arr[j]\n",
    "        j += 1\n",
    "    return arr[: i + 1]"
   ]
  },
  {
   "cell_type": "markdown",
   "metadata": {
    "id": "thM0nECaQavn"
   },
   "source": [
    "<hr style=\\\"border:2px solid gray\\\"> </hr>"
   ]
  },
  {
   "cell_type": "markdown",
   "metadata": {
    "id": "IRbjG5WVQQM5"
   },
   "source": [
    "__2. Given an array A of $n$ integers in the range $[0, n^2 - 1]$, describe a simple method for sorting A in $O(n)$ time.__"
   ]
  },
  {
   "cell_type": "markdown",
   "metadata": {},
   "source": [
    "The idea is to use Radix Sort. Let there be d digits in input integers. Radix Sort takes $O(d*(n+b))$ time where b is the base for representing numbers, for example, for decimal system, b is 10. Since n2-1 is the maximum possible value, the value of d would be $O(logb(n))$. So overall time complexity is $O((n+b)*O(logb(n))$. Which looks more than the time complexity of comparison based sorting algorithms for a large k. The idea is to change base b. If we set b as n, the value of $O(logb(n)) $becomes $O(1)$ and overall time complexity becomes $O(n)$. "
   ]
  },
  {
   "cell_type": "markdown",
   "metadata": {},
   "source": [
    "<hr style=\\\"border:1px solid gray\\\"> </hr>"
   ]
  },
  {
   "cell_type": "code",
   "execution_count": 2,
   "metadata": {
    "id": "jQolkJTJPv7O"
   },
   "outputs": [],
   "source": [
    "def count_sort(arr, p, n):\n",
    "    output = [0] * n\n",
    "    counts = [0] * n\n",
    "    for i in arr:\n",
    "        counts[(i // p) % n] += 1\n",
    "    for i in range(1, n):\n",
    "        counts[i] += counts[i - 1]\n",
    "    for i in arr[::-1]:\n",
    "        output[counts[(i // p) % n] - 1] = i\n",
    "        counts[(i // p) % n] -= 1\n",
    "    return output\n",
    "\n",
    "def radix_sort(arr):\n",
    "    n = len(arr)\n",
    "    arr = count_sort(arr, 1, n)\n",
    "    arr = count_sort(arr, n, n)\n",
    "    return arr"
   ]
  },
  {
   "cell_type": "markdown",
   "metadata": {},
   "source": [
    "<hr style=\\\"border:2px solid gray\\\"> </hr>"
   ]
  },
  {
   "cell_type": "markdown",
   "metadata": {
    "id": "BX_KSm5jZbgw"
   },
   "source": [
    "__3. Describe a non-recursive algorithm for enumerating all permutations of the numbers $\\{1, 2, \\dots,n\\}$ using an\n",
    "explicit stack.__"
   ]
  },
  {
   "cell_type": "markdown",
   "metadata": {},
   "source": [
    "We use the Heap's algorithm which is given as follows : \n",
    "\n",
    "    procedure generate(n : integer, A : array of any):        \n",
    "        for i := 0; i < n; i += 1 do\n",
    "            c[i] := 0\n",
    "        end for\n",
    "\n",
    "        output(A)\n",
    "\n",
    "        //i acts similarly to the stack pointer\n",
    "        i := 0;\n",
    "        while i < n do\n",
    "            if  c[i] < i then\n",
    "                if i is even then\n",
    "                    swap(A[0], A[i])\n",
    "                else\n",
    "                    swap(A[c[i]], A[i])\n",
    "                end if\n",
    "                output(A)\n",
    "                c[i] += 1\n",
    "                i := 0\n",
    "            else\n",
    "                c[i] := 0\n",
    "                i += 1\n",
    "            end if\n",
    "        end while"
   ]
  },
  {
   "cell_type": "markdown",
   "metadata": {},
   "source": [
    "<hr style=\\\"border:1px solid gray\\\"> </hr>"
   ]
  },
  {
   "cell_type": "code",
   "execution_count": 4,
   "metadata": {
    "id": "zOz0SwXIZfeW"
   },
   "outputs": [],
   "source": [
    "def generate_permutations(n):\n",
    "    arr = list(range(1, n + 1))\n",
    "    state = [0] * n\n",
    "    print(arr)\n",
    "    i = 0\n",
    "    while i < n:\n",
    "        if state[i] < i:\n",
    "            if i & 1:\n",
    "                arr[state[i]], arr[i] = arr[i], arr[state[i]]\n",
    "            else:\n",
    "                arr[0], arr[i] = arr[i], arr[0]\n",
    "            print(arr)\n",
    "            state[i] += 1\n",
    "            i = 0\n",
    "        else:\n",
    "            state[i] = 0\n",
    "            i += 1"
   ]
  },
  {
   "cell_type": "markdown",
   "metadata": {},
   "source": [
    "<hr style=\\\"border:2px solid gray\\\"> </hr>"
   ]
  },
  {
   "attachments": {
    "image.png": {
     "image/png": "[encoded data removed]"
    }
   },
   "cell_type": "markdown",
   "metadata": {},
   "source": [
    "__4. Suppose Dijkstra’s algorithm is run on the following graph, starting at node A.__\n",
    "\n",
    "![image.png](attachment:image.png)\n",
    "\n",
    "__(a) Draw a table showing the intermediate distance values all the nodes at each iteration of the algorithm.__\n",
    "\n",
    "__(b) Show the final shortest-path tree.__"
   ]
  },
  {
   "cell_type": "markdown",
   "metadata": {},
   "source": [
    "<hr style=\\\"border:1px solid gray\\\"> </hr>"
   ]
  },
  {
   "attachments": {
    "Capture_new.PNG": {
     "image/png": "[encoded data removed]"
    }
   },
   "cell_type": "markdown",
   "metadata": {},
   "source": [
    "(a) The Dijktra's algorithm with intermediate distance values is as follows (represented as intermediate distance, parent node): \n",
    "\n",
    "|From A → | B | C | D | E | F | G | H |\n",
    "|---  |---|---|---|---|---|---|---|\n",
    "| __A__ | 1,A  | ∞,-  | ∞,-  | 4,A  | 8,A  | ∞,-  | ∞,-  |\n",
    "| __B__ | 1,A  | 3,B  | ∞,-  | 4,A  | 7,B  | 7,B  | ∞,-  |\n",
    "| __C__ | 1,A  | 3,B  | 4,C  | 4,A  | 7,B  | 5,C  | ∞,-  |\n",
    "| __D__ | 1,A  | 3,B  | 4,C  | 4,A  | 7,B  | 5,C  | 8,D  |\n",
    "| __E__ | 1,A  | 3,B  | 4,C  | 4,A  | 7,B  | 5,C  | 8,D  |\n",
    "| __G__ | 1,A  | 3,B  | 4,C  | 4,A  | 6,G  | 5,C  | 6,G  |\n",
    "| __F__ | 1,A  | 3,B  | 4,C  | 4,A  | 6,G  | 5,C  | 6,G  |\n",
    "| __H__ | 1,A  | 3,B  | 4,C  | 4,A  | 6,G  | 5,C  | 6,G  |\n",
    "\n",
    "\n",
    "(b) The final shortest-path tree starting from A is given as is :\n",
    "\n",
    "![Capture_new.PNG](attachment:Capture_new.PNG)"
   ]
  },
  {
   "cell_type": "markdown",
   "metadata": {},
   "source": [
    "<hr style=\\\"border:2px solid gray\\\"> </hr>"
   ]
  },
  {
   "cell_type": "markdown",
   "metadata": {
    "id": "WQ25txIMoLit"
   },
   "source": [
    "__5. Describe an efficient greedy algorithm in python for making change for a specified value using a minimum\n",
    "number of coins, assuming there are four denominations of coins (called quarters, dimes, nickels, and\n",
    "pennies), with values 25, 10, 5, and 1, respectively.__\n",
    "\n",
    "We use the greedy method by trying to use the highest denomination coins to fill the value. If we cannot use the current highest denomination coin, then we move to the next and start searching again."
   ]
  },
  {
   "cell_type": "markdown",
   "metadata": {},
   "source": [
    "<hr style=\\\"border:1px solid gray\\\"> </hr>"
   ]
  },
  {
   "cell_type": "code",
   "execution_count": 5,
   "metadata": {
    "id": "Oyr1CKMoe-eJ",
    "scrolled": false
   },
   "outputs": [],
   "source": [
    "def change(val):\n",
    "    changes = [25,10,5,1]\n",
    "    res = {}\n",
    "    i=0\n",
    "    total_coins = 0\n",
    "    for i in range(4):\n",
    "        res[changes[i]] = val//changes[i]\n",
    "        total_coins+=res[changes[i]]\n",
    "        val = val - changes[i]*(val//changes[i])\n",
    "        i-=1"
   ]
  },
  {
   "cell_type": "markdown",
   "metadata": {},
   "source": [
    "<hr style=\\\"border:2px solid gray\\\"> </hr>"
   ]
  },
  {
   "cell_type": "markdown",
   "metadata": {},
   "source": [
    "__6. Design an efficient algorithm in python for the matrix chain multiplication problem that outputs a fully\n",
    "parenthesized expression for how to multiply the matrices in the chain using the minimum number of\n",
    "operations.__\n",
    "\n",
    "Let `shapes` denote the array of shapes of the matrix and `dp[i][j]` denote the cost of computing the product of matrices from position `i` to `j`. To compute the best way to calculate the product from `i` to `k`, we try to first compute the product from `i` to `k` and `k+1` to `j`, and then find the product between the results. The cost of computing product `i` to `k` is `dp[i][k]` and the cost of computing product from `k+1` to `j` is `dp[k+1][j]`. The cost of computing the resulting product will be `shapes[i-1]*shapes[k]*shapes[j]`. Thus, the dynamic programming subproblem is given as :\n",
    "\n",
    "$$\n",
    "dp[i][j] = \\min_{i\\leq k < j} dp[i][k] + dp[k+1][j] + shapes[i-1]*shapes[k]*shapes[j]\n",
    "$$"
   ]
  },
  {
   "cell_type": "markdown",
   "metadata": {},
   "source": [
    "<hr style=\\\"border:1px solid gray\\\"> </hr>"
   ]
  },
  {
   "cell_type": "code",
   "execution_count": 6,
   "metadata": {
    "scrolled": true
   },
   "outputs": [],
   "source": [
    "def matrix_chain_order(shapes):\n",
    "\n",
    "    mat = []\n",
    "\n",
    "    n = len(shapes) - 1\n",
    "\n",
    "    for i in range(n):\n",
    "        mat.append(chr(ord(\"A\") + i))\n",
    "\n",
    "    dp = [[float(\"inf\")] * (n + 1) for _ in range(n + 1)]\n",
    "\n",
    "    dp_mat = [[\"\"] * (n + 1) for _ in range(n + 1)]\n",
    "\n",
    "    for i in range(1, n + 1):\n",
    "        dp[i][i] = 0\n",
    "        dp_mat[i][i] = mat[i - 1]\n",
    "\n",
    "    for l in range(2, n + 1):\n",
    "        for i in range(1, n - l + 2):\n",
    "            j = i + l - 1\n",
    "            for k in range(i, j):\n",
    "                q = dp[i][k] + dp[k + 1][j] + shapes[i - 1] * shapes[k] * shapes[j]\n",
    "\n",
    "                s = \"(\" + dp_mat[i][k] + dp_mat[k + 1][j] + \")\"\n",
    "\n",
    "                if q < dp[i][j]:\n",
    "                    dp[i][j] = q\n",
    "                    dp_mat[i][j] = s\n",
    "\n",
    "    return (dp[1][n], dp_mat[1][n])"
   ]
  }
 ],
 "metadata": {
  "colab": {
   "collapsed_sections": [],
   "name": "Untitled6.ipynb",
   "provenance": []
  },
  "kernelspec": {
   "display_name": "Python 3 (ipykernel)",
   "language": "python",
   "name": "python3"
  },
  "language_info": {
   "codemirror_mode": {
    "name": "ipython",
    "version": 3
   },
   "file_extension": ".py",
   "mimetype": "text/x-python",
   "name": "python",
   "nbconvert_exporter": "python",
   "pygments_lexer": "ipython3",
   "version": "3.9.7"
  }
 },
 "nbformat": 4,
 "nbformat_minor": 1
}
