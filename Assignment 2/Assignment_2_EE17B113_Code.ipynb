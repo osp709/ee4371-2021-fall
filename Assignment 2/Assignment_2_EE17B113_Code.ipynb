{
 "cells": [
  {
   "cell_type": "markdown",
   "metadata": {},
   "source": [
    "<h1><center>EE4371 - Assignment 2</center></h1>\n",
    "<h3><center>Om Shri Prasath, EE17B113</center></h3>\n",
    "<hr style=\"border:2px solid gray\"> </hr>"
   ]
  },
  {
   "cell_type": "markdown",
   "metadata": {},
   "source": [
    "__Q1. Order the following functions by asymptotic growth rate.__\n",
    "\n",
    "- $4n\\log(n) + 2n$\n",
    "- $2^{10}$\n",
    "- $2^{\\log(n)}$\n",
    "- $3n+100\\log(n)$\n",
    "- $4n$\n",
    "- $2^n$\n",
    "- $n^2+10n$\n",
    "- $n^3$\n",
    "- $n\\log(n)$"
   ]
  },
  {
   "cell_type": "markdown",
   "metadata": {},
   "source": [
    "\n",
    "<hr style=\"border:1px solid gray\"> </hr>"
   ]
  },
  {
   "cell_type": "markdown",
   "metadata": {},
   "source": [
    "__Solution :__\n",
    "\n",
    "\n",
    "The order of asymptotic growth rate for general functions are given by following thumb rules :\n",
    "\n",
    "1. $a\\cdot f(n) < b \\cdot f(n)$ for $a<b$ where $a,b$ are constants\n",
    "2. constant < logarithmic < polynomial < exponential is the general order\n",
    "3. Only the higher order terms needs to be considered\n",
    "\n",
    "Also $2^{\\log n} = n$ since the $\\log$ here is of base 2\n",
    "\n",
    "Using the above rules, we get : \n",
    "\n",
    "$$\n",
    "\\boxed{\n",
    "2^{10} < 2^{\\log(n)} < 3n+100\\log(n) < 4n < n\\log(n) < 4n\\log(n) + 2n < n^2+10n < n^3 < 2^n\n",
    "}\n",
    "$$"
   ]
  },
  {
   "cell_type": "markdown",
   "metadata": {},
   "source": [
    "<hr style=\"border:2px solid gray\"> </hr>"
   ]
  },
  {
   "cell_type": "markdown",
   "metadata": {},
   "source": [
    "__Q2. In each of the following situations, indicate whether $f = O(g)$, or $f = \\Omega(g)$, or both (in which case\n",
    "$f = \\Theta(g)$ ). Justify your answer.__\n",
    "\n",
    "\n",
    "||$f(n)$|$g(n)$|\n",
    "|---|----|----|\n",
    "|(i)|$n-100$|$n-200$|\n",
    "|(ii)|$\\log2n$|$\\log3n$|\n",
    "|(iii)|$n^{0.1}$|$(\\log n)^{10}$|\n",
    "|(iv)| $n2^n$ | $3^n$| "
   ]
  },
  {
   "cell_type": "markdown",
   "metadata": {},
   "source": [
    "<hr style=\"border:1px solid gray\"> </hr>"
   ]
  },
  {
   "cell_type": "markdown",
   "metadata": {},
   "source": [
    "__Solution :__\n",
    "\n",
    "The definition for the relations between $f(n)$ and $g(n)$ are as follows : \n",
    "\n",
    "$$f(n) = O(g(n)) \\iff \\exists\\ c,n_o>0 \\text{ s.t. } \\forall\\ n\\geq n_o, f(n)\\leq c\\cdot g(n)$$\n",
    "\n",
    "$$f(n) = \\Omega(g(n)) \\iff \\exists\\ c,n_o>0 \\text{ s.t. } \\forall\\ n\\geq n_o, f(n)\\geq c\\cdot g(n)$$\n",
    "\n",
    "$$f(n) = \\Theta(g(n)) \\iff \\exists\\ c_1,c_2,n_o>0 \\text{ s.t. } \\forall\\ n\\geq n_o,\\ \\  c_1\\cdot g(n)\\leq f(n)\\leq c_2\\cdot g(n)$$\n",
    "\n",
    "We will use the above definitions for deciding the relation between $f(n)$ and $g(n)$."
   ]
  },
  {
   "cell_type": "markdown",
   "metadata": {},
   "source": [
    "<hr style=\"border:1px solid gray\"> </hr>"
   ]
  },
  {
   "cell_type": "markdown",
   "metadata": {},
   "source": [
    "__(i)__ $f(n) = n-100, g(n) = n-200$\n",
    "\n",
    "We see that $\\forall$ $n \\in \\mathbb{R}$, $n-200 \\leq n-100 \\implies f(n) = \\Omega(g(n))$\n",
    "\n",
    "We see that for the inequality, $n-100 \\leq c(n-200)$ to be satisfied,\n",
    "\n",
    "$(c-1)n -200c+100\\geq 0$. Let c = 2 $\\implies n - 300\\geq 0 \\implies n \\geq 300$\n",
    "\n",
    "For $n_o = 300, c=2$, $f(n) \\leq c\\cdot g(n) \\implies f(n) = O(g(n))$\n",
    "\n",
    "Thus, for $n_0 = 300, c_1=1, c_2 = 2$, $c_1 \\cdot g(n) \\leq f(n) \\leq c_2 \\cdot g(n)$\n",
    "\n",
    "The conditions for $\\Theta$ is satisfied. Thus $\\boxed{f = \\Theta(g)}$"
   ]
  },
  {
   "cell_type": "markdown",
   "metadata": {},
   "source": [
    "<hr style=\"border:1px solid gray\"> </hr>"
   ]
  },
  {
   "cell_type": "markdown",
   "metadata": {},
   "source": [
    "__(ii)__  $f(n) = \\log{2n}, g(n) = \\log{3n}$ \n",
    "\n",
    "We see that $\\forall$ $n > 0$, $\\log{2n} \\leq \\log{3n} \\implies f(n) = O(g(n))$\n",
    "\n",
    "We see that for the inequality, $\\log{2n} \\geq c\\log{3n}$ to be satisfied\n",
    "\n",
    "$(1-c)\\log{n} + \\log{2} - c{\\log{3}} \\geq 0$\n",
    "\n",
    "Let $c = 0.5 \\implies 0.5\\log{n} + \\log{\\frac{2}{\\sqrt{3}}} \\geq 0 \\implies n\\geq \\frac{3}{4}$\n",
    "\n",
    "\n",
    "For $n_o = \\frac{3}{4}, c=0.5$, $f(n) \\geq c\\cdot g(n) \\implies f(n) = \\Omega(g(n))$\n",
    "\n",
    "\n",
    "Thus, for $n_o = \\frac{3}{4}, c_1 = 0.5, c_2 = 1$ , $c_1 \\cdot g(n) \\leq f(n) \\leq c_2 \\cdot g(n)$\n",
    "\n",
    "The conditions for $\\Theta$ is satisfied. Thus $\\boxed{f = \\Theta(g)}$"
   ]
  },
  {
   "cell_type": "markdown",
   "metadata": {},
   "source": [
    "<hr style=\"border:1px solid gray\"> </hr>"
   ]
  },
  {
   "cell_type": "markdown",
   "metadata": {},
   "source": [
    "__(iii)__ $f(n) = n^{0.1}, g(n) = (\\log n)^{10}$ \n",
    "\n",
    "Let $n_o = 2^{1000}, c = 1$, we see that $f(n) \\geq c\\cdot g(n)$ $\\forall$ $n\\geq n_o$\n",
    "\n",
    "Also, $\\lim_{n\\to \\infty}\\frac{n^{0.1}}{(\\log{n})^{10}} = \\infty$, which implies that the value of $n^{0.1}$ is greater than $(\\log{n})^{10}$ asymptotically.\n",
    "\n",
    "Thus the conditions for $\\Omega$ is satisfied. Also, there is no $n_o,c$ to satisfy the condition for $O$. Thus $\\boxed{f = \\Omega(g)}$"
   ]
  },
  {
   "cell_type": "markdown",
   "metadata": {},
   "source": [
    "<hr style=\"border:1px solid gray\"> </hr>"
   ]
  },
  {
   "cell_type": "markdown",
   "metadata": {},
   "source": [
    "__(iv)__ $f(n) = n2^n, g(n) = 3^n$\n",
    "\n",
    "Let $n_o = 3, c = 1$, we see that $f(n) \\leq c\\cdot g(n)$ $\\forall$ $n\\geq n_o$\n",
    "\n",
    "Also, $\\lim_{n\\to \\infty} n \\left(\\frac{2}{3}\\right)^n = 0$, which implies the value of $n2^n$ is greater than $3^n$ asymptotically.\n",
    "\n",
    "Thus the conditions for $O$ is satisfied. Also, there is no $n_o$,$c$ to satisfy the conditions for $\\Omega$. Thus $\\boxed{f = O(g)}$"
   ]
  },
  {
   "cell_type": "markdown",
   "metadata": {},
   "source": [
    "<hr style=\"border:2px solid gray\"> </hr>"
   ]
  },
  {
   "cell_type": "markdown",
   "metadata": {},
   "source": [
    "__Q3. Describe an efficient algorithm for finding the ten largest elements in a sequence of size _n_. What\n",
    "is the running time of your algorithm?__"
   ]
  },
  {
   "cell_type": "markdown",
   "metadata": {
    "ExecuteTime": {
     "end_time": "2021-09-20T11:58:56.494906Z",
     "start_time": "2021-09-20T11:58:56.490660Z"
    }
   },
   "source": [
    "\n",
    "<hr style=\"border:1px solid gray\"> </hr>"
   ]
  },
  {
   "cell_type": "markdown",
   "metadata": {},
   "source": [
    "__Solution : $O(n)$ Time Complexity__\n",
    "\n",
    "We will use the following algorithm for finding the __k__ largest elements in an array. For k = 10, we will get the solution for the above question.\n",
    "\n",
    "Let the array `arr` be of length __n(>=k)__\n",
    "\n",
    "- We first find the (n-k)th largest element in the array, which is found using the Random QuickSelect algorithm as follows :\n",
    "\n",
    "    - We first select a _pivot_ in the given array randomly which is between two given indices _l_ and _r_\n",
    "    - We push elements which are less than the _pivot_ element to the left of it and the elements which are greater than the _pivot_ element to the right of it.\n",
    "    - After the above operation, the _pivot_ element will be in the correct position of the array. Thus, we can do the following based on the position of _pivot_\n",
    "        - If _pivot_ position is equal to (n-k), we return that element.\n",
    "        - If _pivot_ position is greater than (n-k), we recursively search in the left part of the array (_l_,_pivot-1_)\n",
    "        - If _pivot_ position is less than (n-k), we recursively search in the right part of the array (_pivot+1_,_r_)\n",
    "    - The time complexity of the above algorithm is $O(n)$ on average. The proof is given as follows : \n",
    "        - Assuming we split the array into half on average (due to the random pivot select), we see that the size of the array we need to compute on reduces by half in each step. The maximum number of steps we take is $\\log n$ where $n$ is the size of the array.\n",
    "        - Thus the time taken would be as follows : (Note : $2^{\\log n} = n$)\n",
    "        \n",
    "$$T(n) = (n+\\frac{n}{2}+\\frac{n}{4}+\\frac{n}{8} \\dots)_{\\log n\\text{ times}}\n",
    "= n\\left(\\dfrac{1 - \\left(\\dfrac{1}{2^{\\log n}}\\right)}{1-\\dfrac{1}{2}}\\right) = 2n\\left(1-\\dfrac{1}{n}\\right) = 2n-2 = O(n)$$\n",
    "- The average time complexity is $O(n)$ assuming we split the array equally on average due to the random pivot selection. But the worst-case time complexity is $O(n^2)$ which happens when we repeatedly select the least or greatest element of the subarray as pivot. \n",
    "\n",
    "    \n",
    "- After finding the (n-k)th largest element in the array, we again iterate through the array and take only elements which are greater than or equal to the (n-k)th array. This gives us the required k greatest numbers in the array. This operation is $O(n)$ time complexity.\n",
    "\n",
    "\n",
    "Thus the overall time complexity of the algorithm is $O(n) + O(n) = O(n)$ time complexity on average.\n",
    "        "
   ]
  },
  {
   "cell_type": "code",
   "execution_count": 1,
   "metadata": {
    "ExecuteTime": {
     "end_time": "2021-10-05T08:06:17.330972Z",
     "start_time": "2021-10-05T08:06:17.318782Z"
    }
   },
   "outputs": [
    {
     "name": "stdout",
     "output_type": "stream",
     "text": [
      "10 largest elements : [6, 7, 8, 10, 13, 11, 12, 15, 14, 9]\n"
     ]
    }
   ],
   "source": [
    "\"\"\"\n",
    "Python code to get the 10 largest elements from an array\n",
    "\"\"\"\n",
    "\n",
    "# Importing random library to randomly select pivot\n",
    "from random import randint\n",
    "\n",
    "\"\"\"\n",
    "Function to sort the array around a random pivot\n",
    "\n",
    "Input -> arr - Array, l - Left Index, r - Right Index\n",
    "Output -> Array which is sorted around pivot and the pivot index\n",
    "\"\"\"\n",
    "\n",
    "\n",
    "def randPartition(arr, l, r):\n",
    "    # Selecting the random pivot\n",
    "    m = randint(l, r)\n",
    "\n",
    "    # Swap the pivot to the end for easier sorting\n",
    "    arr[r], arr[m] = arr[m], arr[r]\n",
    "\n",
    "    # Variable to store current swap position\n",
    "    i = l\n",
    "\n",
    "    # Pivot element value\n",
    "    x = arr[r]\n",
    "\n",
    "    # Loop to sort the array around the pivot\n",
    "    for j in range(l, r):\n",
    "        # If element is smaller than pivot,\n",
    "        if arr[j] <= x:\n",
    "            # Swap element to ith position\n",
    "            arr[i], arr[j] = arr[j], arr[i]\n",
    "            # Increment i\n",
    "            i += 1\n",
    "    # Swap the pivot to the correct position\n",
    "    arr[r], arr[i] = arr[i], arr[r]\n",
    "\n",
    "    # Return the pivot position\n",
    "    return i\n",
    "\n",
    "\n",
    "\"\"\"\n",
    "Function to find the kth largest element\n",
    "\n",
    "Input -> arr - Array, l - Left Index, r - Right Index, k\n",
    "Output -> k th largest element\n",
    "\"\"\"\n",
    "\n",
    "\n",
    "def kthLargestElement(arr, l, r, k):\n",
    "\n",
    "    # Check if k is less than size of array\n",
    "    if k > 0 and k <= r - l + 1:\n",
    "\n",
    "        # Apply randomPartition and get the pivot position\n",
    "        p = randPartition(arr, l, r)\n",
    "\n",
    "        # Compare pivot position to k and act accordingly\n",
    "        if p - l == k - 1:\n",
    "            return arr[p]\n",
    "        elif p - l < k - 1:\n",
    "            return kthLargestElement(arr, p + 1, r, k - p + l - 1)\n",
    "        else:\n",
    "            return kthLargestElement(arr, l, p - 1, k)\n",
    "\n",
    "\n",
    "\"\"\"\n",
    "Function to return k largest element\n",
    "\n",
    "Input -> arr - Array, k\n",
    "Output -> k largest elements\n",
    "\"\"\"\n",
    "\n",
    "\n",
    "def kLargestElements(arr, k):\n",
    "\n",
    "    # Get the (n-k)th largest element\n",
    "    k_l = kthLargestElement(arr, 0, len(arr) - 1, len(arr) - k + 1)\n",
    "\n",
    "    # Variable to store answer\n",
    "    ans = []\n",
    "\n",
    "    for i in arr:\n",
    "        # Store values in answer which are >= (n-k)th element\n",
    "        if i >= k_l:\n",
    "            ans.append(i)\n",
    "\n",
    "    return ans\n",
    "\n",
    "\n",
    "# Checking the function\n",
    "arr = [3, 2, 1, 4, 5, 9, 8, 7, 10, 6, 11, 12, 15, 14, 13]\n",
    "\n",
    "print(\"10 largest elements :\", kLargestElements(arr, 10))"
   ]
  },
  {
   "cell_type": "markdown",
   "metadata": {},
   "source": [
    "<hr style=\"border:2px solid gray\"> </hr>"
   ]
  },
  {
   "cell_type": "markdown",
   "metadata": {},
   "source": [
    "__Q4. Use the divide and conquer integer multiplication algorithm to multiply the two binary integers\n",
    "10011011 and 10111010.__"
   ]
  },
  {
   "cell_type": "markdown",
   "metadata": {},
   "source": [
    "\n",
    "<hr style=\"border:1px solid gray\"> </hr>"
   ]
  },
  {
   "cell_type": "markdown",
   "metadata": {},
   "source": [
    "__Solution : $O(n^{1.6})$ Time Complexity__\n",
    "\n",
    "\n",
    "We will be using the Karatsuba divide and conquer algorithm for multiplication.\n",
    "\n",
    "\n",
    "- Given two binary numbers $x$ and $y$ to be multiplied, we will write $x$ as $2^{(n/2)} a + b$ and $y$ as $2^{(n/2)} c + d$\n",
    "- Now we can write $x\\cdot y$ as $2^{n}(a\\cdot c) + 2^{n}(a\\cdot c) + 2^{(n/2)}(a\\cdot d + b\\cdot c) + b\\cdot d $\n",
    "- Now we recursively call the function for the products $a\\cdot c$, $a\\cdot d$, $(a+b)\\cdot(c+d)$\n",
    "- The term $a\\cdot d+b\\cdot c$ can be calculated as $(a+b)\\cdot (c+d) - a\\cdot c - b\\cdot d$\n",
    "- The stopping condition is when we have 1 digit products, where we just directly return the result\n",
    "\n",
    "\n",
    "The time complexity is given as follows : We do $3^k$ steps at each level, and the last level is of size $\\log n$. Thus the final time complexity is $3^{\\log n} = n^{\\log 3} \\approx O(n^{1.6})$"
   ]
  },
  {
   "cell_type": "code",
   "execution_count": 2,
   "metadata": {
    "ExecuteTime": {
     "end_time": "2021-10-05T08:06:19.793330Z",
     "start_time": "2021-10-05T08:06:19.768726Z"
    }
   },
   "outputs": [
    {
     "name": "stdout",
     "output_type": "stream",
     "text": [
      "General Multiplication Result\t: 111000010011110\n",
      "Multiplication using D&C\t: 111000010011110\n"
     ]
    }
   ],
   "source": [
    "\"\"\"\n",
    "Function to multiply two binary numbers\n",
    "\n",
    "\n",
    "Input -> Two binary numbers x,y\n",
    "Output -> Binary number which is the product of x and y\n",
    "\n",
    "\"\"\"\n",
    "\n",
    "\n",
    "def binary_multiply(x, y):\n",
    "\n",
    "    # Get the length of the array\n",
    "    n_x = len(x)\n",
    "    n_y = len(y)\n",
    "\n",
    "    n = max(n_x, n_y)\n",
    "\n",
    "    # To make the length of the arrays same\n",
    "\n",
    "    x = \"0\" * (n - n_x) + x\n",
    "    y = \"0\" * (n - n_y) + y\n",
    "\n",
    "    # If the elements are of size 1, we directly return the result\n",
    "    if n == 1:\n",
    "\n",
    "        if x == \"1\" and y == \"1\":\n",
    "            return \"1\"\n",
    "        else:\n",
    "            return \"0\"\n",
    "\n",
    "    # Making the length of operands even to make implementation easier\n",
    "    while n % 2:\n",
    "        x = \"0\" + x\n",
    "        y = \"0\" + y\n",
    "        n += 1\n",
    "\n",
    "    # Calculating a,b,c,d\n",
    "\n",
    "    a = x[: n // 2]\n",
    "    b = x[n // 2 :]\n",
    "\n",
    "    c = y[: n // 2]\n",
    "    d = y[n // 2 :]\n",
    "\n",
    "    # Calculating a+b and c+d\n",
    "    a_b = bin(int(a, 2) + int(b, 2))[2:]\n",
    "    c_d = bin(int(c, 2) + int(d, 2))[2:]\n",
    "\n",
    "    # Recursively calculating ac,(a+b)(c+d),bd\n",
    "    ac = binary_multiply(a, c)\n",
    "    ab_cd = binary_multiply(a_b, c_d)\n",
    "    bd = binary_multiply(b, d)\n",
    "\n",
    "    # Calculating the product x*y using ac,ad,bc,bd\n",
    "    ans = bin(\n",
    "        (int(ac, 2) << n)\n",
    "        + ((int(ab_cd, 2) - int(ac, 2) - int(bd, 2)) << n // 2)\n",
    "        + int(bd, 2)\n",
    "    )[2:]\n",
    "    return ans\n",
    "\n",
    "\n",
    "# Checking the function\n",
    "x = \"10011011\"\n",
    "y = \"10111010\"\n",
    "\n",
    "x_int = int(x, 2)\n",
    "y_int = int(y, 2)\n",
    "\n",
    "print(\"General Multiplication Result\\t:\", bin(x_int * y_int)[2:])\n",
    "print(\"Multiplication using D&C\\t:\", (binary_multiply(x, y)))"
   ]
  },
  {
   "cell_type": "markdown",
   "metadata": {},
   "source": [
    "<hr style=\"border:2px solid gray\"> </hr>"
   ]
  },
  {
   "cell_type": "markdown",
   "metadata": {},
   "source": [
    "__Q5. You are given a unimodal array of n distinct elements, meaning that its entries are in increasing\n",
    "order up until its maximum elements, after which its elements are in decreasing order. Give an\n",
    "algorithm to compute the maximum element of a unimodal array that runs in $O(\\log n)$ time.__"
   ]
  },
  {
   "cell_type": "markdown",
   "metadata": {},
   "source": [
    "\n",
    "<hr style=\"border:1px solid gray\"> </hr>"
   ]
  },
  {
   "cell_type": "markdown",
   "metadata": {},
   "source": [
    "__Solution : $O(\\log n)$ Time Complexity__\n",
    "\n",
    "We will use binary search method to find the maximum element of a unimodal array as follows : \n",
    "\n",
    "1. We define two pointers `l = 0`, `r = n-1` where `n` = length of the array\n",
    "2. Until `l <= r`, we calculate `mid = (l+r)//2`\n",
    "    1. If the element at mid is greater than both its nearby elements, then the element at m is maximum\n",
    "    2. If the element at mid is lesser than the right element, then we shift `l = mid+1`\n",
    "    3. If the element at mid is greater than the right element, then we shift `r = mid-1`\n",
    "    4. If `l==r`, we return the element at l\n",
    "    5. If `l==r-1`, we return max of the element at l or r\n",
    "\n",
    "\n",
    "This algorithm runs in $O(\\log n)$ time, since the array needed to be searched is cut into half at every step."
   ]
  },
  {
   "cell_type": "code",
   "execution_count": 3,
   "metadata": {
    "ExecuteTime": {
     "end_time": "2021-10-05T08:06:21.686115Z",
     "start_time": "2021-10-05T08:06:21.668704Z"
    }
   },
   "outputs": [
    {
     "name": "stdout",
     "output_type": "stream",
     "text": [
      "Largest element = 5\n"
     ]
    }
   ],
   "source": [
    "\"\"\"\n",
    "Function to find maximum number in an unimodal array\n",
    "\n",
    "\n",
    "Input -> Unimodal Array arr\n",
    "Output -> Maximum number in array\n",
    "\n",
    "\"\"\"\n",
    "\n",
    "\n",
    "def max_unimodal(arr):\n",
    "\n",
    "    # Get the length of the array\n",
    "    n = len(arr)\n",
    "\n",
    "    # Define l and r\n",
    "    l = 0\n",
    "    r = n - 1\n",
    "\n",
    "    # Loop to apply the above algorithm\n",
    "    while l < r:\n",
    "\n",
    "        if l == r - 1:\n",
    "            return max(arr[l], arr[r])\n",
    "        mid = (l + r) // 2\n",
    "\n",
    "        if arr[mid] > arr[mid - 1] and arr[mid] > arr[mid + 1]:\n",
    "            return arr[mid]\n",
    "\n",
    "        if arr[mid] < arr[mid - 1] and arr[mid] > arr[mid + 1]:\n",
    "            r = mid - 1\n",
    "        else:\n",
    "            l = mid + 1\n",
    "\n",
    "    if l == r:\n",
    "        return arr[l]\n",
    "\n",
    "\n",
    "a = max_unimodal([1, 2, 3, 4, 5, 2, 1, 0, -1, -2, -3, -4])\n",
    "\n",
    "print(\"Largest element =\", a)"
   ]
  },
  {
   "cell_type": "markdown",
   "metadata": {},
   "source": [
    "<hr style=\"border:2px solid gray\"> </hr>"
   ]
  },
  {
   "cell_type": "markdown",
   "metadata": {},
   "source": [
    "__Q6. Towers of Hanoi : Given a game board with three pegs and a set of disks of different diameter all\n",
    "stacked from smallest to largest on the leftmost peg, moves all of the disks to the rightmost peg\n",
    "following these two rules. First, only one disk may be moved at a time. Second, a larger diameter\n",
    "disk may never be placed on a smaller disk. Any number of disks can be used. Implement this in\n",
    "Python.__"
   ]
  },
  {
   "cell_type": "markdown",
   "metadata": {},
   "source": [
    "\n",
    "<hr style=\"border:1px solid gray\"> </hr>"
   ]
  },
  {
   "cell_type": "markdown",
   "metadata": {},
   "source": [
    "__Solution : $O(2^n)$ Time Complexity__\n",
    "\n",
    "We follow the steps as follows :\n",
    "\n",
    "1. We shift the n-1 disks to the middle peg\n",
    "2. We shift the largest disk to the last peg\n",
    "3. We then shift back the n-1 disks to the last peg\n",
    "\n",
    "This is a recursive method where for solving for n-1, we call the solution for n-2 and so on. This makes the solution $O(2^n)$"
   ]
  },
  {
   "cell_type": "code",
   "execution_count": 10,
   "metadata": {
    "ExecuteTime": {
     "end_time": "2021-10-05T10:14:42.123270Z",
     "start_time": "2021-10-05T10:14:40.696863Z"
    },
    "scrolled": false
   },
   "outputs": [
    {
     "name": "stdout",
     "output_type": "stream",
     "text": [
      "Enter the number of disks :3\n",
      "\n",
      "1\t|\t|\t\n",
      "2\t|\t|\t\n",
      "3\t|\t|\t\n",
      "\n",
      "\n",
      "Starting Solve for n= 3 \n",
      "\n",
      "|\t|\t|\t\n",
      "2\t|\t|\t\n",
      "3\t|\t1\t\n",
      "\n",
      "\n",
      "|\t|\t|\t\n",
      "|\t|\t|\t\n",
      "3\t2\t1\t\n",
      "\n",
      "\n",
      "|\t|\t|\t\n",
      "|\t1\t|\t\n",
      "3\t2\t|\t\n",
      "\n",
      "\n",
      "|\t|\t|\t\n",
      "|\t1\t|\t\n",
      "|\t2\t3\t\n",
      "\n",
      "\n",
      "|\t|\t|\t\n",
      "|\t|\t|\t\n",
      "1\t2\t3\t\n",
      "\n",
      "\n",
      "|\t|\t|\t\n",
      "|\t|\t2\t\n",
      "1\t|\t3\t\n",
      "\n",
      "\n",
      "|\t|\t1\t\n",
      "|\t|\t2\t\n",
      "|\t|\t3\t\n",
      "\n",
      "\n"
     ]
    }
   ],
   "source": [
    "\"\"\"\n",
    "Python code to solve Tower of Hanoi\n",
    "\"\"\"\n",
    "\n",
    "from copy import deepcopy\n",
    "\n",
    "\n",
    "\"\"\"\n",
    "Function to draw the current position of disks\n",
    "\n",
    "Input -> disks - Array containing the disks in each pegs\n",
    "Output -> Print the position of disks in pegs\n",
    "\"\"\"\n",
    "\n",
    "\n",
    "def draw(disks):\n",
    "    # Variable holding number of disks used\n",
    "    global num_disks\n",
    "\n",
    "    # Loop to print either a disk or a bar (|)\n",
    "    for j in range(num_disks - 1, -1, -1):\n",
    "        for i in range(3):\n",
    "            if len(disks[i]) < j + 1:\n",
    "                print(\"|\", end=\"\\t\")\n",
    "            else:\n",
    "                print(disks[i][j], end=\"\\t\")\n",
    "        print()\n",
    "    print(\"\\n\")\n",
    "\n",
    "\n",
    "\"\"\"\n",
    "Function to solve Tower of Hanoi for given number of disks\n",
    "\n",
    "Input -> disks - Array containing the disks in each pegs\n",
    "         n - Number of disks\n",
    "         start_peg - Index pointing to start peg\n",
    "         end_peg - Index pointing to end peg\n",
    "         temp_peg - Peg used to shift n-1 disks\n",
    "         \n",
    "Output -> Print the position of disks in pegs\n",
    "\"\"\"\n",
    "\n",
    "\n",
    "def solve_hanoi(disks, n, start_peg, end_peg, temp_peg):\n",
    "\n",
    "    # If only one disk remains we push it to end peg\n",
    "    if n == 1:\n",
    "        disks[end_peg].append(disks[start_peg].pop(-1))\n",
    "        draw(disks)\n",
    "        return\n",
    "\n",
    "    # Else, we first shift n-1 disks to temp peg\n",
    "    solve_hanoi(disks, n - 1, start_peg, temp_peg, end_peg)\n",
    "\n",
    "    # We then shift the remaining disk to the end peg\n",
    "    disks[end_peg].append(disks[start_peg].pop(-1))\n",
    "    draw(disks)\n",
    "\n",
    "    # We then shift the n-1 disks from temp to the end peg\n",
    "    solve_hanoi(disks, n - 1, temp_peg, end_peg, start_peg)\n",
    "\n",
    "\n",
    "\"\"\"\n",
    "Function to setup the Tower of Hanoi and solve it\n",
    "\n",
    "Input -> n - Number of disks\n",
    "Output -> Solves tower of hanoi and displays each step\n",
    "\"\"\"\n",
    "\n",
    "\n",
    "def hanoi(n):\n",
    "\n",
    "    # Creating the array of disks to represent pegs\n",
    "    disks = [[i for i in range(n, 0, -1)], [], []]\n",
    "    draw(disks)\n",
    "    print(\"Starting Solve for n=\", n, \"\\n\")\n",
    "    # Solving the Tower of Hanoi\n",
    "    solve_hanoi(disks, n, 0, 2, 1)\n",
    "\n",
    "\n",
    "# Checking the code\n",
    "num_disks = int(input(\"Enter the number of disks :\"))\n",
    "print()\n",
    "# Using deepcopy so that num_disks is not affected in recursion\n",
    "hanoi(deepcopy(num_disks))"
   ]
  }
 ],
 "metadata": {
  "kernelspec": {
   "display_name": "Python 3",
   "language": "python",
   "name": "python3"
  },
  "language_info": {
   "codemirror_mode": {
    "name": "ipython",
    "version": 3
   },
   "file_extension": ".py",
   "mimetype": "text/x-python",
   "name": "python",
   "nbconvert_exporter": "python",
   "pygments_lexer": "ipython3",
   "version": "3.9.7"
  },
  "toc": {
   "base_numbering": 1,
   "nav_menu": {},
   "number_sections": true,
   "sideBar": true,
   "skip_h1_title": false,
   "title_cell": "Table of Contents",
   "title_sidebar": "Contents",
   "toc_cell": false,
   "toc_position": {},
   "toc_section_display": true,
   "toc_window_display": false
  }
 },
 "nbformat": 4,
 "nbformat_minor": 4
}
