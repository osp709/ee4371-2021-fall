{
 "cells": [
  {
   "cell_type": "markdown",
   "metadata": {},
   "source": [
    "<h1><center>EE4371 - Assignment 2</center></h1>\n",
    "<h3><center>Om Shri Prasath, EE17B113</center></h3>\n",
    "<hr style=\"border:2px solid gray\"> </hr>"
   ]
  },
  {
   "cell_type": "markdown",
   "metadata": {},
   "source": [
    "__Q1. Order the following functions by asymptotic growth rate.__\n",
    "\n",
    "- $4n\\log(n) + 2n$\n",
    "- $2^{10}$\n",
    "- $2^{\\log(n)}$\n",
    "- $3n+100\\log(n)$\n",
    "- $4n$\n",
    "- $2^n$\n",
    "- $n^2+10n$\n",
    "- $n^3$\n",
    "- $n\\log(n)$"
   ]
  },
  {
   "cell_type": "markdown",
   "metadata": {},
   "source": [
    "\n",
    "<hr style=\"border:1px solid gray\"> </hr>"
   ]
  },
  {
   "cell_type": "markdown",
   "metadata": {},
   "source": [
    "__Solution :__\n",
    "\n",
    "\n",
    "The order of asymptotic growth rate for general functions are given by following thumb rules :\n",
    "\n",
    "1. $a\\cdot f(n) < b \\cdot f(n)$ for $a<b$ where $a,b$ are constants\n",
    "2. constant < logarithmic < polynomial < exponential is the general order\n",
    "3. Only the higher order terms needs to be considered\n",
    "\n",
    "Also $2^{\\log n} = n$ since the $\\log$ here is of base 2\n",
    "\n",
    "Using the above rules, we get : \n",
    "\n",
    "$$\n",
    "\\boxed{\n",
    "2^{10} < 2^{\\log(n)} < 3n+100\\log(n) < 4n < n\\log(n) < 4n\\log(n) + 2n < n^2+10n < n^3 < 2^n\n",
    "}\n",
    "$$"
   ]
  },
  {
   "cell_type": "markdown",
   "metadata": {},
   "source": [
    "<hr style=\"border:2px solid gray\"> </hr>"
   ]
  },
  {
   "cell_type": "markdown",
   "metadata": {},
   "source": [
    "__Q2. In each of the following situations, indicate whether $f = O(g)$, or $f = \\Omega(g)$, or both (in which case\n",
    "$f = \\Theta(g)$ ). Justify your answer.__\n",
    "\n",
    "\n",
    "||$f(n)$|$g(n)$|\n",
    "|---|----|----|\n",
    "|(i)|$n-100$|$n-200$|\n",
    "|(ii)|$\\log2n$|$\\log3n$|\n",
    "|(iii)|$n^{0.1}$|$(\\log n)^{10}$|\n",
    "|(iv)| $n2^n$ | $3^n$| "
   ]
  },
  {
   "cell_type": "markdown",
   "metadata": {},
   "source": [
    "<hr style=\"border:1px solid gray\"> </hr>"
   ]
  },
  {
   "cell_type": "markdown",
   "metadata": {},
   "source": [
    "__Solution :__\n",
    "\n",
    "The definition for the relations between $f(n)$ and $g(n)$ are as follows : \n",
    "\n",
    "$$f(n) = O(g(n)) \\iff \\exists\\ c,n_o>0 \\text{ s.t. } \\forall\\ n\\geq n_o, f(n)\\leq c\\cdot g(n)$$\n",
    "\n",
    "$$f(n) = \\Omega(g(n)) \\iff \\exists\\ c,n_o>0 \\text{ s.t. } \\forall\\ n\\geq n_o, f(n)\\geq c\\cdot g(n)$$\n",
    "\n",
    "$$f(n) = \\Theta(g(n)) \\iff \\exists\\ c_1,c_2,n_o>0 \\text{ s.t. } \\forall\\ n\\geq n_o,\\ \\  c_1\\cdot g(n)\\leq f(n)\\leq c_2\\cdot g(n)$$\n",
    "\n",
    "We will use the above definitions for deciding the relation between f(n) and g(n)."
   ]
  },
  {
   "cell_type": "markdown",
   "metadata": {},
   "source": [
    "<hr style=\"border:1px solid gray\"> </hr>"
   ]
  },
  {
   "cell_type": "markdown",
   "metadata": {},
   "source": [
    "__(i)__ $f(n) = n-100, g(n) = n-200$\n",
    "\n",
    "For $n_0 = 300, c_1=1, c_2 = 2$, $c_1 \\cdot g(n) \\leq f(n) \\leq c_2 \\cdot g(n)$\n",
    "\n",
    "The conditions for $\\Theta$ is satisfied. Thus $\\boxed{f = \\Theta(g)}$"
   ]
  },
  {
   "cell_type": "markdown",
   "metadata": {},
   "source": [
    "<hr style=\"border:1px solid gray\"> </hr>"
   ]
  },
  {
   "cell_type": "markdown",
   "metadata": {},
   "source": [
    "__(ii)__  $f(n) = \\log{2n}, g(n) = \\log{3n}$ \n",
    "\n",
    "For $n_o = \\frac{3}{4}, c_1 = 0.5, c_2 = 1$ , $c_1 \\cdot g(n) \\leq f(n) \\leq c_2 \\cdot g(n)$\n",
    "\n",
    "The conditions for $\\Theta$ is satisfied. Thus $\\boxed{f = \\Theta(g)}$"
   ]
  },
  {
   "cell_type": "markdown",
   "metadata": {},
   "source": [
    "<hr style=\"border:1px solid gray\"> </hr>"
   ]
  },
  {
   "cell_type": "markdown",
   "metadata": {},
   "source": [
    "__(iii)__ $f(n) = n^{0.1}, g(n) = (\\log n)^{10}$ \n",
    "\n",
    "Let $n_o = 2^{1000}, c = 1$, we see that $f(n) \\geq c\\cdot g(n)$\n",
    "\n",
    "Thus the conditions for $\\Omega$ is satisfied. Also, there is no $n_o,c$ to satisfy the condition for $O$. Thus $\\boxed{f = \\Omega(g)}$"
   ]
  },
  {
   "cell_type": "markdown",
   "metadata": {},
   "source": [
    "<hr style=\"border:1px solid gray\"> </hr>"
   ]
  },
  {
   "cell_type": "markdown",
   "metadata": {},
   "source": [
    "__(iv)__ $f(n) = n2^n, g(n) = 3^n$\n",
    "\n",
    "Let $n_o = 3, c = 1$, we see that $f(n) \\leq c\\cdot g(n)$\n",
    "\n",
    "Thus the conditions for $O$ is satisfied. Also, there is no $n_o$,$c$ to satisfy the conditions for $\\Omega$. Thus $\\boxed{f = O(g)}$"
   ]
  },
  {
   "cell_type": "markdown",
   "metadata": {},
   "source": [
    "<hr style=\"border:2px solid gray\"> </hr>"
   ]
  },
  {
   "cell_type": "markdown",
   "metadata": {},
   "source": [
    "__Q3. Describe an efficient algorithm for finding the ten largest elements in a sequence of size _n_. What\n",
    "is the running time of your algorithm?__"
   ]
  },
  {
   "cell_type": "markdown",
   "metadata": {
    "ExecuteTime": {
     "end_time": "2021-09-20T11:58:56.494906Z",
     "start_time": "2021-09-20T11:58:56.490660Z"
    }
   },
   "source": [
    "\n",
    "<hr style=\"border:1px solid gray\"> </hr>"
   ]
  },
  {
   "cell_type": "markdown",
   "metadata": {},
   "source": [
    "__Solution : $O(n)$ Time Complexity__\n",
    "        \n",
    "        \n",
    "We can maintain a min heap, which will be of size 10. Whenever we see a new element, if the element is greater than the smallest element in the heap, we just push out the smallest element in the heap and push in the current element. The time taken for pushing the element into heap is $O(\\log k)$ time complexity, where $k$ is the size of the heap.\n",
    "\n",
    "In this case, $k=10$ and we repeat the process of pushing an element into the stack as $O(n)$ times. Thus the combined time complexity is $O(n\\cdot \\log 10) = O(n)$ since $\\log 10$ is a constant\n"
   ]
  },
  {
   "cell_type": "code",
   "execution_count": 27,
   "metadata": {
    "ExecuteTime": {
     "end_time": "2021-10-05T10:10:23.947798Z",
     "start_time": "2021-10-05T10:10:23.942182Z"
    }
   },
   "outputs": [
    {
     "name": "stdout",
     "output_type": "stream",
     "text": [
      "[93, 20, 84, 79, 52, 85, 19, 77, 50, 2, 88, 42, 4, 53, 49]\n",
      "[49, 50, 53, 52, 79, 85, 84, 93, 77, 88]\n"
     ]
    }
   ],
   "source": [
    "import heapq\n",
    "import random\n",
    "\n",
    "def tenLargestElements(arr):\n",
    "\n",
    "    if(len(arr)<10):\n",
    "        return \"Array size smaller than 10\"\n",
    "    \n",
    "    max_elems = []\n",
    "    \n",
    "    \n",
    "    for i in arr:\n",
    "        if(len(max_elems)<10):\n",
    "            heapq.heappush(max_elems,i)\n",
    "            \n",
    "        else:\n",
    "            if(max_elems[0]<i):\n",
    "                heapq.heappushpop(max_elems,i)\n",
    "                \n",
    "    return max_elems\n",
    "\n",
    "\n",
    "# Checking the function\n",
    "arr = random.sample(range(1,100),random.randint(15,20))\n",
    "\n",
    "print(arr)\n",
    "print(tenLargestElements(arr))"
   ]
  },
  {
   "cell_type": "markdown",
   "metadata": {},
   "source": [
    "<hr style=\"border:2px solid gray\"> </hr>"
   ]
  },
  {
   "cell_type": "markdown",
   "metadata": {},
   "source": [
    "__Q4. Use the divide and conquer integer multiplication algorithm to multiply the two binary integers\n",
    "10011011 and 10111010.__"
   ]
  },
  {
   "cell_type": "markdown",
   "metadata": {},
   "source": [
    "\n",
    "<hr style=\"border:1px solid gray\"> </hr>"
   ]
  },
  {
   "cell_type": "markdown",
   "metadata": {},
   "source": [
    "__Solution : $O(n^{2})$ Time Complexity__\n",
    "\n",
    "\n",
    "We will be using the divide and conquer algorithm for multiplication which is $O(n^2)$."
   ]
  },
  {
   "cell_type": "code",
   "execution_count": 19,
   "metadata": {
    "ExecuteTime": {
     "end_time": "2021-10-05T09:59:47.145497Z",
     "start_time": "2021-10-05T09:59:47.137525Z"
    }
   },
   "outputs": [],
   "source": [
    "def binary_multiply(x, y):\n",
    "\n",
    "    n = len(x)\n",
    "\n",
    "    if n == 1:\n",
    "\n",
    "        if x == \"1\" and y == \"1\":\n",
    "            return \"1\"\n",
    "        else:\n",
    "            return \"0\"\n",
    "\n",
    "\n",
    "    a = x[: n // 2]\n",
    "    b = x[n // 2 :]\n",
    "\n",
    "    c = y[: n // 2]\n",
    "    d = y[n // 2 :]\n",
    "\n",
    "    ac = binary_multiply(a, c)\n",
    "    ad = binary_multiply(a,d)\n",
    "    bc = binary_multiply(b,c)\n",
    "    bd = binary_multiply(b, d)\n",
    "\n",
    "    ans = bin(\n",
    "        (int(ac, 2) << n)\n",
    "        + ((int(ad, 2) + int(bc, 2)) << n // 2)\n",
    "        + int(bd, 2)\n",
    "    )[2:]\n",
    "    return ans"
   ]
  },
  {
   "cell_type": "markdown",
   "metadata": {},
   "source": [
    "<hr style=\"border:2px solid gray\"> </hr>"
   ]
  },
  {
   "cell_type": "markdown",
   "metadata": {},
   "source": [
    "__Q5. You are given a unimodal array of n distinct elements, meaning that its entries are in increasing\n",
    "order up until its maximum elements, after which its elements are in decreasing order. Give an\n",
    "algorithm to compute the maximum element of a unimodal array that runs in $O(\\log n)$ time.__"
   ]
  },
  {
   "cell_type": "markdown",
   "metadata": {},
   "source": [
    "\n",
    "<hr style=\"border:1px solid gray\"> </hr>"
   ]
  },
  {
   "cell_type": "markdown",
   "metadata": {},
   "source": [
    "__Solution : $O(\\log n)$ Time Complexity__\n",
    "\n",
    "We will use binary search method to find the maximum element of a unimodal array. This algorithm runs in $O(\\log n)$ time, since the array needed to be searched is cut into half at every step."
   ]
  },
  {
   "cell_type": "code",
   "execution_count": 30,
   "metadata": {
    "ExecuteTime": {
     "end_time": "2021-10-05T10:11:46.507202Z",
     "start_time": "2021-10-05T10:11:46.493253Z"
    }
   },
   "outputs": [
    {
     "name": "stdout",
     "output_type": "stream",
     "text": [
      "Largest element = 5\n"
     ]
    }
   ],
   "source": [
    "def max_unimodal(arr):\n",
    "\n",
    "    n = len(arr)\n",
    "\n",
    "    l = 0\n",
    "    r = n - 1\n",
    "\n",
    "    while l < r:\n",
    "\n",
    "        if l == r - 1:\n",
    "            return max(arr[l], arr[r])\n",
    "        mid = (l + r) // 2\n",
    "\n",
    "        if arr[mid] > arr[mid - 1] and arr[mid] > arr[mid + 1]:\n",
    "            return arr[mid]\n",
    "\n",
    "        if arr[mid] < arr[mid - 1] and arr[mid] > arr[mid + 1]:\n",
    "            r = mid - 1\n",
    "        else:\n",
    "            l = mid + 1\n",
    "\n",
    "    if l == r:\n",
    "        return arr[l]\n",
    "\n",
    "\n",
    "a = max_unimodal([1, 2, 3, 4, 5, 2, 1, 0, -1, -2, -3, -4])\n",
    "\n",
    "print(\"Largest element =\", a)"
   ]
  },
  {
   "cell_type": "markdown",
   "metadata": {},
   "source": [
    "<hr style=\"border:2px solid gray\"> </hr>"
   ]
  },
  {
   "cell_type": "markdown",
   "metadata": {},
   "source": [
    "__Q6. Towers of Hanoi : Given a game board with three pegs and a set of disks of different diameter all\n",
    "stacked from smallest to largest on the leftmost peg, moves all of the disks to the rightmost peg\n",
    "following these two rules. First, only one disk may be moved at a time. Second, a larger diameter\n",
    "disk may never be placed on a smaller disk. Any number of disks can be used. Implement this in\n",
    "Python.__"
   ]
  },
  {
   "cell_type": "markdown",
   "metadata": {},
   "source": [
    "\n",
    "<hr style=\"border:1px solid gray\"> </hr>"
   ]
  },
  {
   "cell_type": "markdown",
   "metadata": {},
   "source": [
    "__Solution : $O(2^n)$ Time Complexity__\n",
    "\n",
    "We follow the steps as follows :\n",
    "\n",
    "1. We shift the n-1 disks to the middle peg\n",
    "2. We shift the largest disk to the last peg\n",
    "3. We then shift back the n-1 disks to the last peg\n",
    "\n",
    "This is a recursive method where for solving for n-1, we call the solution for n-2 and so on. This makes the solution $O(2^n)$"
   ]
  },
  {
   "cell_type": "code",
   "execution_count": 40,
   "metadata": {
    "ExecuteTime": {
     "end_time": "2021-10-05T10:15:15.380696Z",
     "start_time": "2021-10-05T10:15:15.372203Z"
    },
    "scrolled": false
   },
   "outputs": [
    {
     "name": "stdout",
     "output_type": "stream",
     "text": [
      "Moved disk from  0 to 2\n",
      "Moved disk from  0 to 1\n",
      "Moved disk from  2 to 1\n",
      "Moved disk from  0 to 2\n",
      "Moved disk from  1 to 0\n",
      "Moved disk from  1 to 2\n",
      "Moved disk from  0 to 2\n"
     ]
    }
   ],
   "source": [
    "def solve_hanoi(n, start_peg, end_peg, temp_peg):\n",
    "    if n == 1:\n",
    "        print(\"Moved disk from \",start_peg,\"to\",end_peg)\n",
    "        return\n",
    "    \n",
    "    solve_hanoi(n - 1, start_peg, temp_peg, end_peg)\n",
    "    \n",
    "    print(\"Moved disk from \",start_peg,\"to\",end_peg)\n",
    "\n",
    "    solve_hanoi(n - 1, temp_peg, end_peg, start_peg)\n",
    "    \n",
    "solve_hanoi(3,0,2,1)"
   ]
  }
 ],
 "metadata": {
  "kernelspec": {
   "display_name": "Python 3",
   "language": "python",
   "name": "python3"
  },
  "language_info": {
   "codemirror_mode": {
    "name": "ipython",
    "version": 3
   },
   "file_extension": ".py",
   "mimetype": "text/x-python",
   "name": "python",
   "nbconvert_exporter": "python",
   "pygments_lexer": "ipython3",
   "version": "3.9.7"
  },
  "toc": {
   "base_numbering": 1,
   "nav_menu": {},
   "number_sections": true,
   "sideBar": true,
   "skip_h1_title": false,
   "title_cell": "Table of Contents",
   "title_sidebar": "Contents",
   "toc_cell": false,
   "toc_position": {},
   "toc_section_display": true,
   "toc_window_display": false
  }
 },
 "nbformat": 4,
 "nbformat_minor": 4
}
