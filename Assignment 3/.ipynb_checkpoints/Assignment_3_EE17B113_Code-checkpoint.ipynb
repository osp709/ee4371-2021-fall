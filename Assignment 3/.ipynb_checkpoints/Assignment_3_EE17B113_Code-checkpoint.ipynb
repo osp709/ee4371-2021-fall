{
 "cells": [
  {
   "cell_type": "markdown",
   "metadata": {},
   "source": [
    "<h1><center>EE4371 - Assignment 3</center></h1>\n",
    "<h3><center>Om Shri Prasath, EE17B113</center></h3>\n",
    "<hr style=\"border:2px solid gray\"> </hr>"
   ]
  },
  {
   "cell_type": "markdown",
   "metadata": {},
   "source": [
    "__Q1. Show that the running time of the merge-sort algorithm on n-element sequence is\n",
    "$O(n\\log{n})$, even when n is not a power of 2.__"
   ]
  },
  {
   "cell_type": "markdown",
   "metadata": {},
   "source": [
    "\n",
    "<hr style=\"border:1px solid gray\"> </hr>"
   ]
  },
  {
   "cell_type": "markdown",
   "metadata": {},
   "source": [
    "__Solution :__\n",
    "\n",
    "The steps followed for merge-sort algorithm is as follows:\n",
    "\n",
    "1. If the list is of length 0 or 1, then it is already sorted. Otherwise:\n",
    "2. Divide the unsorted list into two sublists of about half the size.\n",
    "3. Sort each sublist recursively by re-applying merge sort.\n",
    "4. Merge the two sublists back into one sorted list.\n",
    "\n",
    "Let the running time complexity of merge-sort be $T(n)$. From the description of the algorithm given above, steps 1 and 2 take around constant time so it can be ignored. Step 3 is the recursion part which takes $T\\left(\\frac{n}{2}\\right)$ for each sublist, thus $2T\\left(\\frac{n}{2}\\right)$ overall. Step 4 is of $\\Theta(n)\\approx n$ since we need to pass through the array once for merging the sublist.\n",
    "\n",
    "Now, we have\n",
    "\n",
    "$$\n",
    "T\\left(n\\right) = 2T\\left(\\frac{n}{2}\\right) + n\n",
    "$$\n",
    "\n",
    "If we recursively substitute the expression for $T(n)$ in the above equation k times, we get\n",
    "\n",
    "\n",
    "$$\n",
    "T(n) = 2^kT\\left(\\frac{n}{2^k}\\right) + kn\n",
    "$$\n",
    "\n",
    "Now, we have to apply the stopping condition for the recursion, which is when the length of the array becomes 1, i.e. $\\dfrac{n}{2^k} = 1$, since $T(1) = 1$ from our assumption above. Now if $n$ was an power of 2, we can get $k = \\log{n}$, but if $n$ is not a power of 2 what should we do? Here we need to understand what does $k$ actually denote. $k$ denotes the __depth of the recursion__ we need to go such that we split the problem into single element arrays. For an array with length not a power of 2, the depth will be $\\left \\lceil \\log(n) \\right\\rceil \\leq \\log(n) + 1$. Thus for analysis of arrays of size not a power of 2, we can use $k = \\log{n} + 1$.\n",
    "\n",
    "$$\n",
    "T\\left(n\\right) = 2^{\\log(n) + 1} + (\\log{n}+1)n = 3n + n\\log{n}\n",
    "$$\n",
    "\n",
    "We know that $3n + n\\log{n} = O(n\\log{n})$, since the higher order term $n\\log{n}$ dominates over $3n$. \n",
    "\n",
    "Thus, we have proved that the running time of merge sort is $O(n\\log{n})$"
   ]
  },
  {
   "cell_type": "markdown",
   "metadata": {},
   "source": [
    "<hr style=\"border:2px solid gray\"> </hr>"
   ]
  },
  {
   "cell_type": "markdown",
   "metadata": {},
   "source": [
    "\n",
    "__Q2. Consider a modification of the deterministic version of the quick-sort algorithm where we choose\n",
    "the element at index $\\left \\lfloor{\\frac{n}{2}}\\right \\rfloor $ as our pivot. Describe the kind of sequence that would cause this version of quick-sort to run in $\\Omega(n^2)$ time.__"
   ]
  },
  {
   "cell_type": "markdown",
   "metadata": {},
   "source": [
    "<hr style=\"border:1px solid gray\"> </hr>\n"
   ]
  },
  {
   "cell_type": "markdown",
   "metadata": {},
   "source": [
    "\n",
    "__Solution :__\n",
    "\n",
    "The steps followed for quick-sort algorithm is as follows:\n",
    "\n",
    "1. We pick an element called the _pivot_, around which we sort the array\n",
    "2. We move the elements which are smaller than pivot to the left of the pivot and elements greater than the pivot to the right of the pivot. After this partitioning the pivot is placed in its correct position.\n",
    "3. We sort the two sublists of elements greater and less than the pivots recursively. Base case consists of either one or zero elements, in which case the array is sorted\n",
    "\n",
    "In the given case we see that the pivot is chosen as always the element at $\\left\\lfloor \\frac{n}{2}\\right\\rfloor$.\n",
    "\n",
    "The time complexity is given by the following recurrence :\n",
    "\n",
    "$$\n",
    "T(n) = T(|L|) + T(|R|) + \\Theta(n)\n",
    "$$\n",
    "\n",
    "where $|L|$ is the size of the elements smaller than the pivot and $|R|$ is the size of the elements greater than the pivot. Ideally the value of both $|L|$ and $|R| \\sim \\frac{n}{2}$, which gives us the recurrence as \n",
    "\n",
    "$$\n",
    "T(n) = 2T\\left(\\frac{n}{2}\\right) + \\Theta(n)\n",
    "$$\n",
    "\n",
    "\n",
    "which gives us the time complexity of $T(n) = O(n\\log{n}$ from the above question. But in some cases one of either $|L|$ or $|R|$ becomes $0$ and the other one becomes $n-1$, which can happen if the pivot is chosen as either the smallest element or the greatest element. In this case, we can use $\\Omega(n)$, since this is the worst case time complexity and $\\Theta(n) \\implies \\Omega(n)$. The recurrence equation now becomes\n",
    "\n",
    "$$\n",
    "T(n) = T(n-1) + \\Omega(n)\n",
    "$$\n",
    "\n",
    "on recursively substituting for $T(n)$, we get\n",
    "\n",
    "$$\n",
    "T(n) = T(n-k) + k\\Omega(n)\n",
    "$$\n",
    "\n",
    "The stopping condition is $T(0) = 0$, for which $n-k = 0\\implies n = k$. Thus, we get\n",
    "\n",
    "$$\n",
    "T(n) = T(0) + n\\Omega(n) = \\Omega(n^2)\n",
    "$$\n",
    "\n",
    "Thus, in the worst case of always choosing either the greatest element or the least element in the array as the pivot, we get the worst case time complexity of $\\Omega(n^2)$\n",
    "\n",
    "Now, to describe the condition of the array in which this occurs, the array should be created such that the middle element always contains either the smallest or the greatest element while partitioning, which will become the pivot. \n",
    "\n",
    "__Thus, the condition where the pivot is always either the greatest or the smallest array is created by taking a sorted array and rotating it either clockwise or anticlockwise by $\\left\\lfloor \\frac{n}{2} \\right\\rfloor$__\n",
    "\n",
    "E.g. Consider the array $[1,2,3,4,5]$, we rotate it by $\\left\\lfloor \\frac{5}{2} \\right\\rfloor = 2 \\implies [4,5,1,2,3]$ \n",
    "\n",
    "1. Pivot position = $\\left\\lfloor \\frac{5}{2} \\right\\rfloor = 2 \\implies$ Pivot = $1$. Thus $L = []$, $R = [4,5,2,3]$. No. of comparisons = 4\n",
    "2. Pivot position = $\\left\\lfloor \\frac{4}{2} \\right\\rfloor = 2 \\implies$ Pivot = $2$. Thus $L = []$, $R = [4,5,3]$. No of comparisons = 3\n",
    "3. Pivot position = $\\left\\lfloor \\frac{3}{2} \\right\\rfloor = 1 \\implies$ Pivot = $5$. Thus $L = [4,3]$, $R = []$. No of comparisons = 2\n",
    "4. Pivot position = $\\left\\lfloor \\frac{2}{2} \\right\\rfloor = 1 \\implies$ Pivot = $3$. Thus $L = [4]$, $R = []$. No. of comparisons = 1\n",
    "\n",
    "Thus, in the above case either one of the $L$ or $R$ are empty and the other one consists of $n-1$ elements. The number of comparisons is of order $4+3+2+1 = 10 = \\frac{(5\\times4)}{2} = \\frac{n(n-1)}{2} = \\Omega(n^2)$"
   ]
  },
  {
   "cell_type": "markdown",
   "metadata": {},
   "source": [
    "<hr style=\"border:2px solid gray\"> </hr>"
   ]
  },
  {
   "cell_type": "markdown",
   "metadata": {},
   "source": [
    "__Q3. Describe and analyze an efficient method for removing all duplicates from a collection A of $n$ elements.__"
   ]
  },
  {
   "cell_type": "markdown",
   "metadata": {},
   "source": [
    "\n",
    "<hr style=\"border:1px solid gray\"> </hr>"
   ]
  },
  {
   "cell_type": "markdown",
   "metadata": {},
   "source": [
    "__Solution : $O(n\\log{n})$ Time Complexity__\n",
    "\n",
    "Given an collection of n elements, we need to remove duplicates from the collection. Assuming we do not need to keep the order, the operation can be done as follows :\n",
    "\n",
    "1. We sort the array, using either quick sort or merge sort to sort the array\n",
    "2. Once the array is sorted, we do the following\n",
    "    1. If the length of the array is 1, we just return it. Else:\n",
    "    1. We keep two iterators i and j which are initialized to 0 and 1\n",
    "    2. If element at position i is not equal to j, we increment i and write the element present at i into j and then increment j too\n",
    "    3. Otherwise we just increment j\n",
    "    4. We continue the loop until j reaches the end of the array\n",
    "    5. We return the elements present from 0:i+1 as the non-duplicates array output.\n",
    "    \n",
    "    \n",
    "The above algorithm has $O(n\\log{n})$ time complexity for sorting and $O(n)$ time complexity for removing the duplicates, so the overall time complexity is $O(n\\log{n})$"
   ]
  },
  {
   "cell_type": "code",
   "execution_count": 1,
   "metadata": {
    "ExecuteTime": {
     "end_time": "2021-10-21T12:59:44.206997Z",
     "start_time": "2021-10-21T12:59:44.185234Z"
    }
   },
   "outputs": [
    {
     "name": "stdout",
     "output_type": "stream",
     "text": [
      "[1, 2, 3, 4, 5, 6]\n"
     ]
    }
   ],
   "source": [
    "\"\"\"\n",
    "Python code to implement removal of duplicates from collection\n",
    "\"\"\"\n",
    "\n",
    "\"\"\"\n",
    "Function to remove duplicates from arr\n",
    "\"\"\"\n",
    "\n",
    "\n",
    "def remove_duplicates(arr):\n",
    "\n",
    "    n = len(arr)\n",
    "\n",
    "    # Returning if only one element is present\n",
    "    if n == 1:\n",
    "        return arr\n",
    "\n",
    "    # Sorting the array\n",
    "    arr.sort()\n",
    "\n",
    "    i = 0\n",
    "    j = 1\n",
    "\n",
    "    # Loop to remove the duplicates\n",
    "    while j < n:\n",
    "\n",
    "        # If element do not match, write it a previous position\n",
    "        if arr[i] != arr[j]:\n",
    "            i += 1\n",
    "            arr[i] = arr[j]\n",
    "\n",
    "        j += 1\n",
    "\n",
    "    # Return the non-duplicates part of array\n",
    "    return arr[0 : i + 1]\n",
    "\n",
    "\n",
    "# Testing the code\n",
    "\n",
    "arr = [3, 2, 2, 3, 1, 5, 4, 5, 5, 6, 3]\n",
    "\n",
    "print(remove_duplicates(arr))"
   ]
  },
  {
   "cell_type": "markdown",
   "metadata": {},
   "source": [
    "<hr style=\"border:2px solid gray\"> </hr>"
   ]
  },
  {
   "cell_type": "markdown",
   "metadata": {},
   "source": [
    "__Q4. Show that quick-sort’s best-case running time is $\\Omega(n\\log{n})$.__"
   ]
  },
  {
   "cell_type": "markdown",
   "metadata": {},
   "source": [
    "<hr style=\"border:1px solid gray\"> </hr>"
   ]
  },
  {
   "cell_type": "markdown",
   "metadata": {},
   "source": [
    "__Solution :__\n",
    "\n",
    "The recurrence relation for quick-sort algorithm is given as :\n",
    "\n",
    "$$\n",
    "T(n) = T(k) + T(n-k-1) + \\Theta(n)\n",
    "$$\n",
    "\n",
    "where $k$ is the number of elements less than the pivot.\n",
    "\n",
    "Now, we have to prove that for a fixed $c$ and $n_o$, $T(n) \\geq c f(n)$ $\\forall$ $n>n_o$, where $f(n) = n\\log{n}$ (condition for $\\Omega(n)$\n",
    "\n",
    "We need to find the minimum possible bound of $T(n)$, and show that it is of the order $\\Omega(n\\log{n})$. For this we will assume that the above asymptotic relation is true and show that our assumption is true afterwards. Thus,\n",
    "\n",
    "$$\n",
    "\\min_{k}T(n) = \\min_{k} T(k) + T(n-k-1) + \\Theta(n) \\geq \\min_{k} k\\log(k) + (n-k-1)\\log(n-k-1) + \\Theta(n)\n",
    "$$\n",
    "\n",
    "Differentiating w.r.t $k$, we get\n",
    "\n",
    "$$\n",
    "\\log(k) - \\log(n-k-1) = 0 \\implies k = \\frac{n-1}{2}\n",
    "$$\n",
    "\n",
    "$$\n",
    "\\implies \\min_k T(n) \\geq \\frac{n-1}{2}\\log{\\frac{n-1}{2}} + \\frac{n-1}{2}\\log{\\frac{n-1}{2}} + \\Theta(n)  \\geq (n-1)\\log{\\frac{(n-1)}{2}}\n",
    "$$\n",
    "\n",
    "We see that for $n_o = 2$ and $c = 0.5$, $T(n) \\geq (n-1)\\log{\\frac{(n-1)}{2}}\\geq cn\\log n$. Thus the quick-sort's best-case running time is $\\Omega(n\\log{n})$.\n",
    "\n",
    "One thing to note that is we get this best case running time when $k = \\frac{n}{2}$, i.e. we choose the __median__ of the array as the pivot in all of the steps.\n",
    "\n",
    "\n"
   ]
  },
  {
   "cell_type": "markdown",
   "metadata": {},
   "source": [
    "<hr style=\"border:2px solid gray\"> </hr>"
   ]
  },
  {
   "cell_type": "markdown",
   "metadata": {},
   "source": [
    "__Q5. Implement in python, a bottom-up merge-sort for a collection of items by placing each item in its\n",
    "own queue, and then repeatedly merging pairs of queues until all items are sorted within a single\n",
    "queue.__"
   ]
  },
  {
   "cell_type": "markdown",
   "metadata": {},
   "source": [
    "<hr style=\"border:1px solid gray\"> </hr>"
   ]
  },
  {
   "cell_type": "markdown",
   "metadata": {},
   "source": [
    "__Solution : $O(n\\log{n})$  Time Complexity__\n",
    "\n",
    "We use the merge sort algorithm which we had discussed before in an bottom up manner as follows : \n",
    "\n",
    "- We first create n queues which each contain one item intially.\n",
    "- Until the number of queues become 1, we do the following :\n",
    "    - We merge sort consecutive queues to create a new queue, thus reducing the number of queues by $\\frac{n}{2}$\n",
    "    - If the number of elements is odd, we keep the last queue as it is"
   ]
  },
  {
   "cell_type": "code",
   "execution_count": 2,
   "metadata": {
    "ExecuteTime": {
     "end_time": "2021-10-21T12:59:49.711878Z",
     "start_time": "2021-10-21T12:59:49.685450Z"
    }
   },
   "outputs": [
    {
     "name": "stdout",
     "output_type": "stream",
     "text": [
      "[1, 2, 3, 4, 5, 6]\n"
     ]
    }
   ],
   "source": [
    "\"\"\"\n",
    "Python code to merge sort in bottom-up manner\n",
    "\n",
    "\"\"\"\n",
    "\n",
    "\n",
    "\"\"\"\n",
    "Queue implementation\n",
    "\n",
    "push()  -> Pushes element into the queue\n",
    "pop()   -> Pops element from the queue\n",
    "size()  -> Returns the size of the queue\n",
    "\"\"\"\n",
    "\n",
    "\n",
    "class Queue:\n",
    "    def __init__(self):\n",
    "        # Initializing the queue as a list\n",
    "        self.queue = []\n",
    "        # Variable to hold size\n",
    "        self.size = 0\n",
    "\n",
    "    def push(self, elem):\n",
    "        # Push element at the end\n",
    "        self.queue.append(elem)\n",
    "        # Increase the size\n",
    "        self.size += 1\n",
    "\n",
    "    def pop(self):\n",
    "        if self.size > 0:\n",
    "            # Pop element at the front\n",
    "            t = self.queue.pop(0)\n",
    "            # Decrese the size\n",
    "            self.size -= 1\n",
    "\n",
    "            return t\n",
    "\n",
    "        else:\n",
    "            # Return None if queue is empty\n",
    "            return None\n",
    "\n",
    "    def size(self):\n",
    "        # Return size of array\n",
    "        return self.size\n",
    "\n",
    "\n",
    "\"\"\"\n",
    "Function to merge two queues in a sorted manner\n",
    "\n",
    "Input -> Two queues\n",
    "Output-> Sorted queue containing elements of both queues\n",
    "\"\"\"\n",
    "\n",
    "\n",
    "def merge(x, y):\n",
    "\n",
    "    # Resulting queue\n",
    "    res = Queue()\n",
    "\n",
    "    # Pop the values from the queue\n",
    "    a = x.pop()\n",
    "    b = y.pop()\n",
    "\n",
    "    # We append the smaller element to res\n",
    "    while a and b:\n",
    "        if a <= b:\n",
    "            res.push(a)\n",
    "            a = x.pop()\n",
    "        else:\n",
    "            res.push(b)\n",
    "            b = y.pop()\n",
    "\n",
    "    # Append the leftover elements\n",
    "    while a:\n",
    "        res.push(a)\n",
    "        a = x.pop()\n",
    "\n",
    "    while b:\n",
    "        res.push(b)\n",
    "        b = y.pop()\n",
    "    \n",
    "    # Return the sorted merged queue\n",
    "    return res\n",
    "\n",
    "\n",
    "\"\"\"\n",
    "Function to merge sort elements\n",
    "\n",
    "Input  -> Array of elements\n",
    "Output -> Queue of sorted elements\n",
    "\"\"\"\n",
    "\n",
    "\n",
    "def merge_sort(l):\n",
    "    \n",
    "    # Array to store the queues\n",
    "    s = []\n",
    "\n",
    "    # Create the queues of elements\n",
    "    for i in l:\n",
    "        k = Queue()\n",
    "        k.push(i)\n",
    "        s.append(k)\n",
    "    \n",
    "    while len(s) > 1:\n",
    "        # New array for holding merged queues\n",
    "        s_temp = []\n",
    "\n",
    "        n = len(s)\n",
    "        i = 0\n",
    "\n",
    "        while i < n:\n",
    "            if i < n - 1:\n",
    "                # Merging and appending to array\n",
    "                s_temp.append(merge(s[i], s[i + 1]))\n",
    "            else:\n",
    "                # Append lone queue without merging\n",
    "                s_temp.append(s[i])\n",
    "            i += 2\n",
    "        \n",
    "        # Assign the new array to old array\n",
    "        s = s_temp\n",
    "    \n",
    "    # Return the sorted queue\n",
    "    return s[0]\n",
    "\n",
    "\n",
    "# Testing the function\n",
    "q = merge_sort([3, 2, 1, 4, 6, 5])\n",
    "print(q.queue)"
   ]
  }
 ],
 "metadata": {
  "kernelspec": {
   "display_name": "Python 3",
   "language": "python",
   "name": "python3"
  },
  "language_info": {
   "codemirror_mode": {
    "name": "ipython",
    "version": 3
   },
   "file_extension": ".py",
   "mimetype": "text/x-python",
   "name": "python",
   "nbconvert_exporter": "python",
   "pygments_lexer": "ipython3",
   "version": "3.9.7"
  }
 },
 "nbformat": 4,
 "nbformat_minor": 4
}
